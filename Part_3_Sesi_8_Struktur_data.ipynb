{
  "nbformat": 4,
  "nbformat_minor": 0,
  "metadata": {
    "colab": {
      "provenance": []
    },
    "kernelspec": {
      "name": "python3",
      "display_name": "Python 3"
    },
    "language_info": {
      "name": "python"
    }
  },
  "cells": [
    {
      "cell_type": "markdown",
      "source": [
        "## **LIST**"
      ],
      "metadata": {
        "id": "eN8W4JlGkO6b"
      }
    },
    {
      "cell_type": "code",
      "source": [
        "# Variable nama teman\n",
        "#               0        1       2        3       4\n",
        "nama_teman = ['Amir', 'Budi', 'Cinta', 'Dimas', 'Edi']\n",
        "print (nama_teman)"
      ],
      "metadata": {
        "colab": {
          "base_uri": "https://localhost:8080/"
        },
        "id": "zAZhX7_MkT2P",
        "outputId": "03465b2b-2d98-42c7-a02f-707bcb1b9051"
      },
      "execution_count": null,
      "outputs": [
        {
          "output_type": "stream",
          "name": "stdout",
          "text": [
            "['Amir', 'Budi', 'Cinta', 'Dimas', 'Edi']\n"
          ]
        }
      ]
    },
    {
      "cell_type": "code",
      "source": [
        "# Variable nama teman\n",
        "#               0        1       2        3       4\n",
        "nama_teman = ['Amir', 'Budi', 'Cinta', 'Dimas', 'Edi']\n",
        "print (nama_teman)"
      ],
      "metadata": {
        "colab": {
          "base_uri": "https://localhost:8080/"
        },
        "id": "R9n0KnIYUEWd",
        "outputId": "dcde8f83-1170-4bc8-e3c9-5e04c192ae32"
      },
      "execution_count": 9,
      "outputs": [
        {
          "output_type": "stream",
          "name": "stdout",
          "text": [
            "['Amir', 'Budi', 'Cinta', 'Dimas', 'Edi']\n"
          ]
        }
      ]
    },
    {
      "cell_type": "code",
      "source": [
        "len(nama_teman)"
      ],
      "metadata": {
        "colab": {
          "base_uri": "https://localhost:8080/"
        },
        "id": "umoXXHiKkmRt",
        "outputId": "c9e1038e-714b-4ae9-e6bb-bc9c133df178"
      },
      "execution_count": null,
      "outputs": [
        {
          "output_type": "execute_result",
          "data": {
            "text/plain": [
              "5"
            ]
          },
          "metadata": {},
          "execution_count": 2
        }
      ]
    },
    {
      "cell_type": "code",
      "source": [
        "acak = ['Amir', 17, 70.5, 'Jeruk']\n",
        "print (acak)"
      ],
      "metadata": {
        "colab": {
          "base_uri": "https://localhost:8080/"
        },
        "id": "APUwzFJmks8X",
        "outputId": "a94a54a3-61b8-42d6-a278-a4cb53b5b1ed"
      },
      "execution_count": null,
      "outputs": [
        {
          "output_type": "stream",
          "name": "stdout",
          "text": [
            "['Amir', 17, 70.5, 'Jeruk']\n"
          ]
        }
      ]
    },
    {
      "cell_type": "code",
      "source": [
        "print (type(nama_teman))\n",
        "print (type(acak))"
      ],
      "metadata": {
        "colab": {
          "base_uri": "https://localhost:8080/"
        },
        "id": "9ldNFSdjlBuQ",
        "outputId": "bb1dcd4b-6a06-4394-8b1d-f827331eb42a"
      },
      "execution_count": null,
      "outputs": [
        {
          "output_type": "stream",
          "name": "stdout",
          "text": [
            "<class 'list'>\n",
            "<class 'list'>\n"
          ]
        }
      ]
    },
    {
      "cell_type": "code",
      "source": [
        "buah = ['Jeruk', 'Apel', 'Mangga', 'Jeruk']\n",
        "buah"
      ],
      "metadata": {
        "colab": {
          "base_uri": "https://localhost:8080/"
        },
        "id": "AQtNHvEWlQ0A",
        "outputId": "b24630e8-bb77-45c5-9568-e4c3eeb3c79c"
      },
      "execution_count": null,
      "outputs": [
        {
          "output_type": "execute_result",
          "data": {
            "text/plain": [
              "['Jeruk', 'Apel', 'Mangga', 'Jeruk']"
            ]
          },
          "metadata": {},
          "execution_count": 6
        }
      ]
    },
    {
      "cell_type": "code",
      "source": [
        "# Memanggil satu elemen\n",
        "#  ['Amir', 'Budi', 'Cinta', 'Dimas', 'Edi']\n",
        "#     0        1       2        3       4\n",
        "print (nama_teman[0])\n",
        "print (nama_teman[4])\n"
      ],
      "metadata": {
        "colab": {
          "base_uri": "https://localhost:8080/"
        },
        "id": "uvwftJt4ljWe",
        "outputId": "7b17e9d5-a99a-4298-f2d5-0351de213c68"
      },
      "execution_count": null,
      "outputs": [
        {
          "output_type": "stream",
          "name": "stdout",
          "text": [
            "Amir\n",
            "Edi\n"
          ]
        }
      ]
    },
    {
      "cell_type": "code",
      "source": [
        "# Mengganti value dalam elemen\n",
        "nama_teman[0] = 'Andi'\n",
        "nama_teman"
      ],
      "metadata": {
        "colab": {
          "base_uri": "https://localhost:8080/"
        },
        "id": "RDeDN2V-l4ud",
        "outputId": "4da53bda-dc41-4fe4-e435-92ba19c52795"
      },
      "execution_count": null,
      "outputs": [
        {
          "output_type": "execute_result",
          "data": {
            "text/plain": [
              "['Andi', 'Budi', 'Cinta', 'Dimas', 'Edi']"
            ]
          },
          "metadata": {},
          "execution_count": 8
        }
      ]
    },
    {
      "cell_type": "code",
      "source": [
        "nama_teman[0:2] = ['Asep', 'Bobby']"
      ],
      "metadata": {
        "id": "hBo4BEEFmDhk"
      },
      "execution_count": null,
      "outputs": []
    },
    {
      "cell_type": "code",
      "source": [
        "nama_teman"
      ],
      "metadata": {
        "colab": {
          "base_uri": "https://localhost:8080/"
        },
        "id": "UZW-nKy6UJ5d",
        "outputId": "fa03a07a-1a40-4776-8c0a-9b8080cd4195"
      },
      "execution_count": 10,
      "outputs": [
        {
          "output_type": "execute_result",
          "data": {
            "text/plain": [
              "['Amir', 'Budi', 'Cinta', 'Dimas', 'Edi']"
            ]
          },
          "metadata": {},
          "execution_count": 10
        }
      ]
    },
    {
      "cell_type": "code",
      "source": [
        "nama_teman"
      ],
      "metadata": {
        "colab": {
          "base_uri": "https://localhost:8080/"
        },
        "id": "5Ipnpv63mOif",
        "outputId": "9ad3bcda-25d3-4b0b-95a8-869b9409be44"
      },
      "execution_count": null,
      "outputs": [
        {
          "output_type": "execute_result",
          "data": {
            "text/plain": [
              "['Asep', 'Bobby', 'Cinta', 'Dimas', 'Edi']"
            ]
          },
          "metadata": {},
          "execution_count": 10
        }
      ]
    },
    {
      "cell_type": "code",
      "source": [
        "# slicing pada list\n",
        "print (nama_teman[:])"
      ],
      "metadata": {
        "colab": {
          "base_uri": "https://localhost:8080/"
        },
        "id": "fecLhr4pmZtr",
        "outputId": "030512ae-6f7a-48ec-d3a1-53a8c37f9a9e"
      },
      "execution_count": null,
      "outputs": [
        {
          "output_type": "stream",
          "name": "stdout",
          "text": [
            "['Asep', 'Bobby', 'Cinta', 'Dimas', 'Edi']\n"
          ]
        }
      ]
    },
    {
      "cell_type": "code",
      "source": [
        "print (nama_teman)"
      ],
      "metadata": {
        "colab": {
          "base_uri": "https://localhost:8080/"
        },
        "id": "pSg5s-2smnXf",
        "outputId": "07f48755-63fa-4fa5-a04e-b82860b3309f"
      },
      "execution_count": null,
      "outputs": [
        {
          "output_type": "stream",
          "name": "stdout",
          "text": [
            "['Asep', 'Bobby', 'Cinta', 'Dimas', 'Edi']\n"
          ]
        }
      ]
    },
    {
      "cell_type": "code",
      "source": [
        "# slicing pada list\n",
        "print (nama_teman[0:3])"
      ],
      "metadata": {
        "colab": {
          "base_uri": "https://localhost:8080/"
        },
        "id": "EQjsO1exmqC5",
        "outputId": "15621abc-81f8-4e7d-da69-12ef0758e96c"
      },
      "execution_count": null,
      "outputs": [
        {
          "output_type": "stream",
          "name": "stdout",
          "text": [
            "['Asep', 'Bobby', 'Cinta']\n"
          ]
        }
      ]
    },
    {
      "cell_type": "code",
      "source": [
        "print (nama_teman[0:3:2])"
      ],
      "metadata": {
        "colab": {
          "base_uri": "https://localhost:8080/"
        },
        "id": "rRfgFFjLm1gm",
        "outputId": "33c05c3d-6389-49d5-f1f3-6bc57c7f3fde"
      },
      "execution_count": null,
      "outputs": [
        {
          "output_type": "stream",
          "name": "stdout",
          "text": [
            "['Asep', 'Cinta']\n"
          ]
        }
      ]
    },
    {
      "cell_type": "code",
      "source": [
        "# ['Asep', 'Bobby', 'Cinta', 'Dimas', 'Edi']\n",
        "for i in nama_teman:\n",
        "  print (i)"
      ],
      "metadata": {
        "colab": {
          "base_uri": "https://localhost:8080/"
        },
        "id": "ns-0T05fnD-Y",
        "outputId": "6c259c4a-9749-4236-e3e1-4ebda49fdcf1"
      },
      "execution_count": null,
      "outputs": [
        {
          "output_type": "stream",
          "name": "stdout",
          "text": [
            "Asep\n",
            "Bobby\n",
            "Cinta\n",
            "Dimas\n",
            "Edi\n"
          ]
        }
      ]
    },
    {
      "cell_type": "code",
      "source": [
        "# ['Asep', 'Bobby', 'Cinta', 'Dimas', 'Edi']\n",
        "for i in nama_teman:\n",
        "  print (i)"
      ],
      "metadata": {
        "colab": {
          "base_uri": "https://localhost:8080/"
        },
        "id": "CVSZCwIQUNFY",
        "outputId": "a93f06e7-76c3-426b-d2a4-96496629867a"
      },
      "execution_count": 11,
      "outputs": [
        {
          "output_type": "stream",
          "name": "stdout",
          "text": [
            "Amir\n",
            "Budi\n",
            "Cinta\n",
            "Dimas\n",
            "Edi\n"
          ]
        }
      ]
    },
    {
      "cell_type": "code",
      "source": [
        "print(i)"
      ],
      "metadata": {
        "colab": {
          "base_uri": "https://localhost:8080/"
        },
        "id": "dBp7yPwAoDuF",
        "outputId": "ee54ecdb-276c-4ffc-950f-a100a787a3c9"
      },
      "execution_count": null,
      "outputs": [
        {
          "output_type": "stream",
          "name": "stdout",
          "text": [
            "Edi\n"
          ]
        }
      ]
    },
    {
      "cell_type": "code",
      "source": [
        "# append\n",
        "nama_teman.append ('Farhan')"
      ],
      "metadata": {
        "id": "htm8yA4QnfXi"
      },
      "execution_count": 12,
      "outputs": []
    },
    {
      "cell_type": "markdown",
      "source": [
        "# ***QUIZ***"
      ],
      "metadata": {
        "id": "BWU33tvQo93X"
      }
    },
    {
      "cell_type": "code",
      "source": [
        "nama_teman = ['Asep', 'Bobby', 'Cinta', 'Dimas', 'Edi']\n",
        "for i in range(len(nama_teman)):\n",
        "  print (nama_teman[i])"
      ],
      "metadata": {
        "colab": {
          "base_uri": "https://localhost:8080/"
        },
        "id": "w0u90t6bnsMF",
        "outputId": "008c376a-affb-43df-d81f-7fd12a2e0caa"
      },
      "execution_count": 13,
      "outputs": [
        {
          "output_type": "stream",
          "name": "stdout",
          "text": [
            "Asep\n",
            "Bobby\n",
            "Cinta\n",
            "Dimas\n",
            "Edi\n"
          ]
        }
      ]
    },
    {
      "cell_type": "code",
      "source": [
        "len(nama_teman)"
      ],
      "metadata": {
        "colab": {
          "base_uri": "https://localhost:8080/"
        },
        "id": "FPBlq9dHpoLu",
        "outputId": "cc9b05a0-359f-4255-9469-f65976fe9d3f"
      },
      "execution_count": null,
      "outputs": [
        {
          "output_type": "execute_result",
          "data": {
            "text/plain": [
              "5"
            ]
          },
          "metadata": {},
          "execution_count": 74
        }
      ]
    },
    {
      "cell_type": "code",
      "source": [
        "list(range(5))"
      ],
      "metadata": {
        "colab": {
          "base_uri": "https://localhost:8080/"
        },
        "id": "Tso_GKsvSiEq",
        "outputId": "b49d0a30-8941-4aa0-e877-c3188f8416c5"
      },
      "execution_count": 2,
      "outputs": [
        {
          "output_type": "execute_result",
          "data": {
            "text/plain": [
              "[0, 1, 2, 3, 4]"
            ]
          },
          "metadata": {},
          "execution_count": 2
        }
      ]
    },
    {
      "cell_type": "markdown",
      "source": [
        "**Append = menambah list**"
      ],
      "metadata": {
        "id": "As_SqVc3ukST"
      }
    },
    {
      "cell_type": "code",
      "source": [
        "# append\n",
        "nama_teman.append ('Farhan')"
      ],
      "metadata": {
        "id": "QM-I3agzqBBT"
      },
      "execution_count": null,
      "outputs": []
    },
    {
      "cell_type": "code",
      "source": [
        "nama_teman.append ('Gio')"
      ],
      "metadata": {
        "id": "KvNLG2nlqElg"
      },
      "execution_count": null,
      "outputs": []
    },
    {
      "cell_type": "code",
      "source": [
        "for i in range(len(nama_teman)):\n",
        "  print (f\"{i+1} {nama_teman[i]}\")"
      ],
      "metadata": {
        "colab": {
          "base_uri": "https://localhost:8080/"
        },
        "id": "o8SV7qQVqKlP",
        "outputId": "7f856727-930a-4874-896b-e806749c3e86"
      },
      "execution_count": null,
      "outputs": [
        {
          "output_type": "stream",
          "name": "stdout",
          "text": [
            "1 Asep\n",
            "2 Bobby\n",
            "3 Cinta\n",
            "4 Dimas\n",
            "5 Edi\n",
            "6 Farhan\n",
            "7 Gio\n"
          ]
        }
      ]
    },
    {
      "cell_type": "code",
      "source": [
        "nama_teman = ['Asep', 'Bobby', 'Cinta', 'Dimas', 'Edi', 'Farhan', 'Gio']\n",
        "print(enumerate(nama_teman))"
      ],
      "metadata": {
        "colab": {
          "base_uri": "https://localhost:8080/"
        },
        "id": "sCSg05HdViL7",
        "outputId": "aa5a0e81-09c4-46cc-d8c3-39c03050e6fc"
      },
      "execution_count": 21,
      "outputs": [
        {
          "output_type": "stream",
          "name": "stdout",
          "text": [
            "<enumerate object at 0x7b030b26b650>\n"
          ]
        }
      ]
    },
    {
      "cell_type": "code",
      "source": [
        "print(list(enumerate(nama_teman)))"
      ],
      "metadata": {
        "colab": {
          "base_uri": "https://localhost:8080/"
        },
        "id": "ryCovIHrruH8",
        "outputId": "672b07a7-b530-4715-ac06-08caa4d2059d"
      },
      "execution_count": null,
      "outputs": [
        {
          "output_type": "stream",
          "name": "stdout",
          "text": [
            "[(0, 'Asep'), (1, 'Bobby'), (2, 'Cinta'), (3, 'Dimas'), (4, 'Edi'), (5, 'Farhan'), (6, 'Gio')]\n"
          ]
        }
      ]
    },
    {
      "cell_type": "code",
      "source": [
        "print(list(enumerate(nama_teman)))"
      ],
      "metadata": {
        "colab": {
          "base_uri": "https://localhost:8080/"
        },
        "id": "eFqmm6qDWhFa",
        "outputId": "56d4abe7-e7e7-4334-ce0f-b0bef52acb1b"
      },
      "execution_count": 22,
      "outputs": [
        {
          "output_type": "stream",
          "name": "stdout",
          "text": [
            "[(0, 'Asep'), (1, 'Bobby'), (2, 'Cinta'), (3, 'Dimas'), (4, 'Edi'), (5, 'Farhan'), (6, 'Gio')]\n"
          ]
        }
      ]
    },
    {
      "cell_type": "code",
      "source": [
        "# [(0, 'Asep'), (1, 'Bobby'), (2, 'Cinta'), (3, 'Dimas'), (4, 'Edi'), (5, 'Farhan'), (6, 'Gio')]\n",
        "\n",
        "for i, name in enumerate(nama_teman):\n",
        "  print(f\"{i+1} {name}\")"
      ],
      "metadata": {
        "colab": {
          "base_uri": "https://localhost:8080/"
        },
        "id": "0Aj0Vd2HqXS0",
        "outputId": "5d1fc462-29ce-411c-d037-5b79d1bd044a"
      },
      "execution_count": null,
      "outputs": [
        {
          "output_type": "stream",
          "name": "stdout",
          "text": [
            "1 Asep\n",
            "2 Bobby\n",
            "3 Cinta\n",
            "4 Dimas\n",
            "5 Edi\n",
            "6 Farhan\n",
            "7 Gio\n"
          ]
        }
      ]
    },
    {
      "cell_type": "code",
      "source": [
        "# [(0, 'Asep'), (1, 'Bobby'), (2, 'Cinta'), (3, 'Dimas'), (4, 'Edi'), (5, 'Farhan'), (6, 'Gio')]\n",
        "\n",
        "for i, name in enumerate(nama_teman):\n",
        "  print(f\"{i+1} {nama_teman[i]}\")"
      ],
      "metadata": {
        "colab": {
          "base_uri": "https://localhost:8080/"
        },
        "id": "PSJP6WWPYgJ7",
        "outputId": "2a2a4b85-4ecb-46ec-95f6-5e074f47146b"
      },
      "execution_count": 23,
      "outputs": [
        {
          "output_type": "stream",
          "name": "stdout",
          "text": [
            "1 Asep\n",
            "2 Bobby\n",
            "3 Cinta\n",
            "4 Dimas\n",
            "5 Edi\n",
            "6 Farhan\n",
            "7 Gio\n"
          ]
        }
      ]
    },
    {
      "cell_type": "code",
      "source": [
        "tuple(enumerate(nama_teman))"
      ],
      "metadata": {
        "colab": {
          "base_uri": "https://localhost:8080/"
        },
        "id": "vISTim3GYwOJ",
        "outputId": "a71ef183-20d9-4e6a-a21c-4252b415f431"
      },
      "execution_count": 25,
      "outputs": [
        {
          "output_type": "execute_result",
          "data": {
            "text/plain": [
              "((0, 'Asep'),\n",
              " (1, 'Bobby'),\n",
              " (2, 'Cinta'),\n",
              " (3, 'Dimas'),\n",
              " (4, 'Edi'),\n",
              " (5, 'Farhan'),\n",
              " (6, 'Gio'))"
            ]
          },
          "metadata": {},
          "execution_count": 25
        }
      ]
    },
    {
      "cell_type": "code",
      "source": [
        "# [(0, 'Asep'), (1, 'Bobby'), (2, 'Cinta'), (3, 'Dimas'), (4, 'Edi'), (5, 'Farhan'), (6, 'Gio')]\n",
        "\n",
        "for x, name in enumerate(nama_teman):\n",
        "  print(f\"{x+1} {name}\")"
      ],
      "metadata": {
        "colab": {
          "base_uri": "https://localhost:8080/"
        },
        "id": "4o5v5qoDqgqz",
        "outputId": "21bd0df0-a9b2-4c70-a3da-97b92832672d"
      },
      "execution_count": null,
      "outputs": [
        {
          "output_type": "stream",
          "name": "stdout",
          "text": [
            "1 Asep\n",
            "2 Bobby\n",
            "3 Cinta\n",
            "4 Dimas\n",
            "5 Edi\n",
            "6 Farhan\n",
            "7 Gio\n"
          ]
        }
      ]
    },
    {
      "cell_type": "code",
      "source": [
        "print (x)\n",
        "print (name)"
      ],
      "metadata": {
        "colab": {
          "base_uri": "https://localhost:8080/"
        },
        "id": "7YMpRbjItC-J",
        "outputId": "3c4ac8c5-1263-4fec-e401-9609bbd5fa8e"
      },
      "execution_count": null,
      "outputs": [
        {
          "output_type": "stream",
          "name": "stdout",
          "text": [
            "6\n",
            "Gio\n"
          ]
        }
      ]
    },
    {
      "cell_type": "code",
      "source": [
        "i_name = list (enumerate(nama_teman))\n",
        "i_name"
      ],
      "metadata": {
        "colab": {
          "base_uri": "https://localhost:8080/"
        },
        "id": "_TFtFOsGtONO",
        "outputId": "979f33c5-d4f4-478b-b10f-777380d371de"
      },
      "execution_count": null,
      "outputs": [
        {
          "output_type": "execute_result",
          "data": {
            "text/plain": [
              "[(0, 'Asep'),\n",
              " (1, 'Bobby'),\n",
              " (2, 'Cinta'),\n",
              " (3, 'Dimas'),\n",
              " (4, 'Edi'),\n",
              " (5, 'Farhan'),\n",
              " (6, 'Gio')]"
            ]
          },
          "metadata": {},
          "execution_count": 82
        }
      ]
    },
    {
      "cell_type": "code",
      "source": [
        "i_name[2][1]"
      ],
      "metadata": {
        "colab": {
          "base_uri": "https://localhost:8080/",
          "height": 36
        },
        "id": "rAClfvhhtaaF",
        "outputId": "f96400f6-46de-4d5e-da8c-74e5f6029826"
      },
      "execution_count": null,
      "outputs": [
        {
          "output_type": "execute_result",
          "data": {
            "text/plain": [
              "'Cinta'"
            ],
            "application/vnd.google.colaboratory.intrinsic+json": {
              "type": "string"
            }
          },
          "metadata": {},
          "execution_count": 83
        }
      ]
    },
    {
      "cell_type": "markdown",
      "source": [
        "**POP**"
      ],
      "metadata": {
        "id": "ZtETYoMmucuL"
      }
    },
    {
      "cell_type": "code",
      "source": [
        "# POP = meremove\n",
        "\n",
        "nama_teman.pop()"
      ],
      "metadata": {
        "colab": {
          "base_uri": "https://localhost:8080/",
          "height": 36
        },
        "id": "vaT4Ju5JuEpK",
        "outputId": "d6bb3665-fe10-43fd-80c3-0445edad8ac7"
      },
      "execution_count": null,
      "outputs": [
        {
          "output_type": "execute_result",
          "data": {
            "text/plain": [
              "'Gio'"
            ],
            "application/vnd.google.colaboratory.intrinsic+json": {
              "type": "string"
            }
          },
          "metadata": {},
          "execution_count": 84
        }
      ]
    },
    {
      "cell_type": "code",
      "source": [
        "nama_teman"
      ],
      "metadata": {
        "colab": {
          "base_uri": "https://localhost:8080/"
        },
        "id": "18LyDWyLuKG7",
        "outputId": "d394802b-7ced-4198-ce0b-1614e287e08d"
      },
      "execution_count": null,
      "outputs": [
        {
          "output_type": "execute_result",
          "data": {
            "text/plain": [
              "['Asep', 'Bobby', 'Cinta', 'Dimas', 'Edi', 'Farhan']"
            ]
          },
          "metadata": {},
          "execution_count": 85
        }
      ]
    },
    {
      "cell_type": "code",
      "source": [
        "x_teman = nama_teman.pop()\n",
        "x_teman"
      ],
      "metadata": {
        "colab": {
          "base_uri": "https://localhost:8080/",
          "height": 36
        },
        "id": "psP7eWKtuNBP",
        "outputId": "cf22edf4-cfe5-4b74-d39e-803b833046c2"
      },
      "execution_count": null,
      "outputs": [
        {
          "output_type": "execute_result",
          "data": {
            "text/plain": [
              "'Farhan'"
            ],
            "application/vnd.google.colaboratory.intrinsic+json": {
              "type": "string"
            }
          },
          "metadata": {},
          "execution_count": 86
        }
      ]
    },
    {
      "cell_type": "markdown",
      "source": [
        "**APPEND**"
      ],
      "metadata": {
        "id": "IgmmHwlwf0Xs"
      }
    },
    {
      "cell_type": "code",
      "source": [
        "nama_teman.append('Asep')"
      ],
      "metadata": {
        "id": "dEZhJghauwWK"
      },
      "execution_count": null,
      "outputs": []
    },
    {
      "cell_type": "code",
      "source": [
        "nama_teman"
      ],
      "metadata": {
        "colab": {
          "base_uri": "https://localhost:8080/"
        },
        "id": "pQDKmEziu2os",
        "outputId": "59bff8c5-d286-4cc7-850c-8cf014839331"
      },
      "execution_count": null,
      "outputs": [
        {
          "output_type": "execute_result",
          "data": {
            "text/plain": [
              "['Asep', 'Bobby', 'Cinta', 'Dimas', 'Edi', 'Asep']"
            ]
          },
          "metadata": {},
          "execution_count": 88
        }
      ]
    },
    {
      "cell_type": "code",
      "source": [
        "nama_teman.count('Asep')"
      ],
      "metadata": {
        "colab": {
          "base_uri": "https://localhost:8080/"
        },
        "id": "iJCy4nIdu6TP",
        "outputId": "e029bfb0-1b12-4fb4-8887-b172f2eff829"
      },
      "execution_count": null,
      "outputs": [
        {
          "output_type": "execute_result",
          "data": {
            "text/plain": [
              "2"
            ]
          },
          "metadata": {},
          "execution_count": 89
        }
      ]
    },
    {
      "cell_type": "code",
      "source": [
        "nama_teman.index('Bobby')"
      ],
      "metadata": {
        "colab": {
          "base_uri": "https://localhost:8080/"
        },
        "id": "IO5BYyKLu_ob",
        "outputId": "6a0b603d-2e41-447b-d491-cc03f4a212a4"
      },
      "execution_count": null,
      "outputs": [
        {
          "output_type": "execute_result",
          "data": {
            "text/plain": [
              "1"
            ]
          },
          "metadata": {},
          "execution_count": 90
        }
      ]
    },
    {
      "cell_type": "code",
      "source": [
        "nama_teman.index('Asep')"
      ],
      "metadata": {
        "colab": {
          "base_uri": "https://localhost:8080/"
        },
        "id": "vgMux2yIvG39",
        "outputId": "2a13e146-8684-4f86-babc-75604fe584dc"
      },
      "execution_count": null,
      "outputs": [
        {
          "output_type": "execute_result",
          "data": {
            "text/plain": [
              "0"
            ]
          },
          "metadata": {},
          "execution_count": 91
        }
      ]
    },
    {
      "cell_type": "code",
      "source": [
        "# Tugas\n",
        "# Search Asep\n",
        "# Asep ada di index 0 dan 5 [0,5]"
      ],
      "metadata": {
        "id": "69Zz0V9mvTHl"
      },
      "execution_count": null,
      "outputs": []
    },
    {
      "cell_type": "markdown",
      "source": [
        "*Menggunakan cara for loop biasa*"
      ],
      "metadata": {
        "id": "7ULmyF3nwAGB"
      }
    },
    {
      "cell_type": "code",
      "source": [
        "list_name = ['Asep', 'Bobby', 'Cinta', 'Dimas', 'Edi', 'Asep']\n",
        "\n",
        "Asep = []\n",
        "for getIndex, getName in enumerate(list_name):\n",
        "    if getName == 'Asep':\n",
        "      Asep.append(getIndex)\n",
        "print (Asep)"
      ],
      "metadata": {
        "id": "VZqbhGr8vbJV",
        "colab": {
          "base_uri": "https://localhost:8080/"
        },
        "outputId": "5a8e4ece-32c7-4330-c9f3-0f5c4f2c7c5c"
      },
      "execution_count": 107,
      "outputs": [
        {
          "output_type": "stream",
          "name": "stdout",
          "text": [
            "[0, 5]\n"
          ]
        }
      ]
    },
    {
      "cell_type": "code",
      "source": [
        "list_name = ['Asep', 'Bobby', 'Cinta', 'Dimas', 'Edi', 'Asep']\n",
        "\n",
        "Asep = []\n",
        "for getIndex, getName in enumerate(list_name):\n",
        "    if getName == 'Asep':\n",
        "      Asep.append(getName)\n",
        "print (Asep)"
      ],
      "metadata": {
        "colab": {
          "base_uri": "https://localhost:8080/"
        },
        "id": "pxeXx9OBvIUV",
        "outputId": "32947df3-03b6-4a24-e30e-ba1700791f16"
      },
      "execution_count": 108,
      "outputs": [
        {
          "output_type": "stream",
          "name": "stdout",
          "text": [
            "['Asep', 'Asep']\n"
          ]
        }
      ]
    },
    {
      "cell_type": "code",
      "source": [
        "list_name = 'asep', 'amir', 'budi', 'cinta', 'edi', 'asep'\n",
        "asep = [getName for getIndex, getName in enumerate(list_name)if getName == 'asep']\n",
        "print (asep)"
      ],
      "metadata": {
        "colab": {
          "base_uri": "https://localhost:8080/"
        },
        "id": "x5REC34tRFZB",
        "outputId": "9783d544-5ab4-4c71-888c-4816a3943d63"
      },
      "execution_count": null,
      "outputs": [
        {
          "output_type": "stream",
          "name": "stdout",
          "text": [
            "['asep', 'asep']\n"
          ]
        }
      ]
    },
    {
      "cell_type": "markdown",
      "source": [
        "*Mengunakan List Comprehension*"
      ],
      "metadata": {
        "id": "pSAiCL27vP49"
      }
    },
    {
      "cell_type": "code",
      "source": [
        "# List Comprehension hanya bisa digunakan jika listnya belum terlalu complicated\n",
        "\n",
        "\n",
        "list_name = ['Asep', 'Bobby', 'Cinta', 'Dimas', 'Edi', 'Asep']\n",
        "\n",
        "Asep = [getIndex for getIndex, getName in enumerate(list_name) if getName == 'Asep']\n",
        "print (Asep)"
      ],
      "metadata": {
        "colab": {
          "base_uri": "https://localhost:8080/"
        },
        "id": "qFv-L685vfI_",
        "outputId": "5c15c919-11c4-4e71-8591-fc19cca51e55"
      },
      "execution_count": 109,
      "outputs": [
        {
          "output_type": "stream",
          "name": "stdout",
          "text": [
            "[0, 5]\n"
          ]
        }
      ]
    },
    {
      "cell_type": "code",
      "source": [
        "list_name = ['Asep', 'Bobby', 'Cinta', 'Dimas', 'Edi', 'Asep']\n",
        "\n",
        "Asep = [getName for getIndex, getName in enumerate(list_name) if getName == 'Asep']\n",
        "print (Asep)"
      ],
      "metadata": {
        "id": "vI7rnPwxv77F"
      },
      "execution_count": null,
      "outputs": []
    },
    {
      "cell_type": "code",
      "source": [
        "bilangan = [2, 4, 3, 6, 7, 9]\n",
        "bilangan_baru =[]\n",
        "for i in bilangan:\n",
        "  if i % 2 == 0:\n",
        "    bilangan_baru.append(i+1)\n",
        "  else:\n",
        "    bilangan_baru.append(i+2)\n",
        "print (bilangan_baru)\n",
        "\n",
        "# while or for are allowed\n",
        "#logic\n",
        " # jika bilangan genap: tambah dengan 1\n",
        " # jika bilangan ganjil: tambah dengan 2\n",
        " # hasil penjualan masukkan dalam list yang baru\n",
        "#result [3, 5, 5, 7, 9, 11]"
      ],
      "metadata": {
        "colab": {
          "base_uri": "https://localhost:8080/"
        },
        "id": "W57OmPE2TGFD",
        "outputId": "5781ab68-18b3-4fc0-9d8e-4e16c1bb3e6d"
      },
      "execution_count": null,
      "outputs": [
        {
          "output_type": "stream",
          "name": "stdout",
          "text": [
            "[3, 5, 5, 7, 9, 11]\n"
          ]
        }
      ]
    },
    {
      "cell_type": "markdown",
      "source": [
        "**INSERT**"
      ],
      "metadata": {
        "id": "OOAUjVF3wg41"
      }
    },
    {
      "cell_type": "code",
      "source": [
        "nama_teman.insert(6, 'Gio')"
      ],
      "metadata": {
        "id": "UE7vi881voX-"
      },
      "execution_count": null,
      "outputs": []
    },
    {
      "cell_type": "code",
      "source": [
        "nama_teman"
      ],
      "metadata": {
        "colab": {
          "base_uri": "https://localhost:8080/"
        },
        "id": "VIn3nftSvzT8",
        "outputId": "a3e0d58b-4f6c-4920-8eb4-e6391d703dd6"
      },
      "execution_count": null,
      "outputs": [
        {
          "output_type": "execute_result",
          "data": {
            "text/plain": [
              "['Asep', 'Bobby', 'Cinta', 'Dimas', 'Edi', 'Asep', 'Gio']"
            ]
          },
          "metadata": {},
          "execution_count": 94
        }
      ]
    },
    {
      "cell_type": "code",
      "source": [
        "nama_teman.insert(8, 'Farhan')"
      ],
      "metadata": {
        "id": "uWw6NeOZv3An"
      },
      "execution_count": null,
      "outputs": []
    },
    {
      "cell_type": "markdown",
      "source": [
        "*index tidak bisa loncat angka, akan tetap berurutan, Farhan akan tetap ada di index 7*"
      ],
      "metadata": {
        "id": "8UrULsoOwCJ9"
      }
    },
    {
      "cell_type": "code",
      "source": [
        "nama_teman"
      ],
      "metadata": {
        "colab": {
          "base_uri": "https://localhost:8080/"
        },
        "id": "s2TWUTUwv9PF",
        "outputId": "84aab3bd-8341-4188-8cb2-67614b579413"
      },
      "execution_count": null,
      "outputs": [
        {
          "output_type": "execute_result",
          "data": {
            "text/plain": [
              "['Asep', 'Bobby', 'Cinta', 'Dimas', 'Edi', 'Asep', 'Gio', 'Farhan']"
            ]
          },
          "metadata": {},
          "execution_count": 96
        }
      ]
    },
    {
      "cell_type": "code",
      "source": [
        "kelas_b = ['Ayu', 'Bunga', 'Citra', 'Dini']\n",
        "kelas_b"
      ],
      "metadata": {
        "colab": {
          "base_uri": "https://localhost:8080/"
        },
        "id": "nEFxpvuywJMj",
        "outputId": "dbd06909-4457-484f-9056-4e63b4f88be3"
      },
      "execution_count": null,
      "outputs": [
        {
          "output_type": "execute_result",
          "data": {
            "text/plain": [
              "['Ayu', 'Bunga', 'Citra', 'Dini']"
            ]
          },
          "metadata": {},
          "execution_count": 97
        }
      ]
    },
    {
      "cell_type": "code",
      "source": [
        "kelas_b.insert(2, 'Emi')"
      ],
      "metadata": {
        "id": "GqqJ2B3vwT8u"
      },
      "execution_count": null,
      "outputs": []
    },
    {
      "cell_type": "code",
      "source": [
        "kelas_b"
      ],
      "metadata": {
        "colab": {
          "base_uri": "https://localhost:8080/"
        },
        "id": "qEOBI8zswami",
        "outputId": "bb261604-37c1-47b1-94cc-23d740bab033"
      },
      "execution_count": null,
      "outputs": [
        {
          "output_type": "execute_result",
          "data": {
            "text/plain": [
              "['Ayu', 'Bunga', 'Emi', 'Citra', 'Dini']"
            ]
          },
          "metadata": {},
          "execution_count": 99
        }
      ]
    },
    {
      "cell_type": "markdown",
      "source": [
        "**REMOVE**"
      ],
      "metadata": {
        "id": "bRYNLjqNwzH-"
      }
    },
    {
      "cell_type": "code",
      "source": [
        "kelas_b.remove ('Bunga')"
      ],
      "metadata": {
        "id": "rhc_aaWHwo63"
      },
      "execution_count": null,
      "outputs": []
    },
    {
      "cell_type": "code",
      "source": [
        "kelas_b"
      ],
      "metadata": {
        "colab": {
          "base_uri": "https://localhost:8080/"
        },
        "id": "-lhS47C7wtOs",
        "outputId": "bc45174d-4fc3-4fb5-acfe-a68b807def8b"
      },
      "execution_count": null,
      "outputs": [
        {
          "output_type": "execute_result",
          "data": {
            "text/plain": [
              "['Ayu', 'Emi', 'Citra', 'Dini']"
            ]
          },
          "metadata": {},
          "execution_count": 101
        }
      ]
    },
    {
      "cell_type": "markdown",
      "source": [
        "**SORT**"
      ],
      "metadata": {
        "id": "t2X7r-hwxoqG"
      }
    },
    {
      "cell_type": "code",
      "source": [
        "# SORT = mengurutkan\n",
        "\n",
        "angka = [5,3,6,7,1,2,9]\n",
        "angka.sort()"
      ],
      "metadata": {
        "id": "0E7-0JHXiRO0"
      },
      "execution_count": 43,
      "outputs": []
    },
    {
      "cell_type": "code",
      "source": [
        "angka"
      ],
      "metadata": {
        "colab": {
          "base_uri": "https://localhost:8080/"
        },
        "id": "itS8-2tFxI9d",
        "outputId": "de66428f-ab5b-4395-9b84-4bba112d8073"
      },
      "execution_count": 44,
      "outputs": [
        {
          "output_type": "execute_result",
          "data": {
            "text/plain": [
              "[1, 2, 3, 5, 6, 7, 9]"
            ]
          },
          "metadata": {},
          "execution_count": 44
        }
      ]
    },
    {
      "cell_type": "markdown",
      "source": [
        "*by default akan mengurutkan dari angka terkecil ke terbesar*"
      ],
      "metadata": {
        "id": "NyPsRKNlg5cU"
      }
    },
    {
      "cell_type": "markdown",
      "source": [
        "**SORT.REVERSE**"
      ],
      "metadata": {
        "id": "lMcVcB48xsNL"
      }
    },
    {
      "cell_type": "code",
      "source": [
        "angka.sort(reverse=True)\n",
        "angka"
      ],
      "metadata": {
        "colab": {
          "base_uri": "https://localhost:8080/"
        },
        "id": "36QpxeZfxLDg",
        "outputId": "10785efc-2b97-4f7b-c509-a23e48451990"
      },
      "execution_count": 45,
      "outputs": [
        {
          "output_type": "execute_result",
          "data": {
            "text/plain": [
              "[9, 7, 6, 5, 3, 2, 1]"
            ]
          },
          "metadata": {},
          "execution_count": 45
        }
      ]
    },
    {
      "cell_type": "markdown",
      "source": [
        "*reverse = membalik list (angka), hanya menerima angka Boolean*"
      ],
      "metadata": {
        "id": "198eE7kzxaR3"
      }
    },
    {
      "cell_type": "code",
      "source": [
        "angka.reverse()"
      ],
      "metadata": {
        "id": "A_uXXg12xZSt"
      },
      "execution_count": 46,
      "outputs": []
    },
    {
      "cell_type": "code",
      "source": [
        "angka"
      ],
      "metadata": {
        "colab": {
          "base_uri": "https://localhost:8080/"
        },
        "id": "p7ABMiBexflg",
        "outputId": "2d7a9799-d29a-48c0-b8c1-e71bca40141e"
      },
      "execution_count": 47,
      "outputs": [
        {
          "output_type": "execute_result",
          "data": {
            "text/plain": [
              "[1, 2, 3, 5, 6, 7, 9]"
            ]
          },
          "metadata": {},
          "execution_count": 47
        }
      ]
    },
    {
      "cell_type": "markdown",
      "source": [
        "**COPY**"
      ],
      "metadata": {
        "id": "H2GZpwBWxwot"
      }
    },
    {
      "cell_type": "code",
      "source": [
        "angka_copy = angka.copy()"
      ],
      "metadata": {
        "id": "l6z36JDNxzxL"
      },
      "execution_count": 48,
      "outputs": []
    },
    {
      "cell_type": "code",
      "source": [
        "angka"
      ],
      "metadata": {
        "colab": {
          "base_uri": "https://localhost:8080/"
        },
        "id": "r_xCFCL3jJyZ",
        "outputId": "7917aefc-b14c-491a-8b84-37cbbe92c1a5"
      },
      "execution_count": 49,
      "outputs": [
        {
          "output_type": "execute_result",
          "data": {
            "text/plain": [
              "[1, 2, 3, 5, 6, 7, 9]"
            ]
          },
          "metadata": {},
          "execution_count": 49
        }
      ]
    },
    {
      "cell_type": "code",
      "source": [
        "angka.append(10)\n",
        "print (angka)\n",
        "print (angka_copy)"
      ],
      "metadata": {
        "colab": {
          "base_uri": "https://localhost:8080/"
        },
        "id": "M-MgcYxHjN5h",
        "outputId": "17b8f22a-9c8a-41e9-9324-f070f356386e"
      },
      "execution_count": 50,
      "outputs": [
        {
          "output_type": "stream",
          "name": "stdout",
          "text": [
            "[1, 2, 3, 5, 6, 7, 9, 10]\n",
            "[1, 2, 3, 5, 6, 7, 9]\n"
          ]
        }
      ]
    },
    {
      "cell_type": "code",
      "source": [
        "angka_copy"
      ],
      "metadata": {
        "colab": {
          "base_uri": "https://localhost:8080/"
        },
        "id": "nJbiDutVx4pU",
        "outputId": "f9c69a88-48d0-4f8c-d133-ffdac63ec216"
      },
      "execution_count": 51,
      "outputs": [
        {
          "output_type": "execute_result",
          "data": {
            "text/plain": [
              "[1, 2, 3, 5, 6, 7, 9]"
            ]
          },
          "metadata": {},
          "execution_count": 51
        }
      ]
    },
    {
      "cell_type": "code",
      "source": [
        "angka_ = angka"
      ],
      "metadata": {
        "id": "mV3tIPpsx76E"
      },
      "execution_count": 52,
      "outputs": []
    },
    {
      "cell_type": "code",
      "source": [
        "angka_"
      ],
      "metadata": {
        "colab": {
          "base_uri": "https://localhost:8080/"
        },
        "id": "RZPOKucNyomH",
        "outputId": "288f42b7-590b-46f9-e3ad-68c4ef50b3ea"
      },
      "execution_count": 53,
      "outputs": [
        {
          "output_type": "execute_result",
          "data": {
            "text/plain": [
              "[1, 2, 3, 5, 6, 7, 9, 10]"
            ]
          },
          "metadata": {},
          "execution_count": 53
        }
      ]
    },
    {
      "cell_type": "markdown",
      "source": [
        "**CLEAR**"
      ],
      "metadata": {
        "id": "GmjlNouhzjYo"
      }
    },
    {
      "cell_type": "code",
      "source": [
        "# CLEAR = Mengosongkan\n",
        "\n",
        "angka.clear()\n",
        "angka"
      ],
      "metadata": {
        "colab": {
          "base_uri": "https://localhost:8080/"
        },
        "id": "yQ6mWuyUzdTi",
        "outputId": "f40d627a-e04d-4cb8-b647-f3c28f5c1d4b"
      },
      "execution_count": null,
      "outputs": [
        {
          "output_type": "execute_result",
          "data": {
            "text/plain": [
              "[]"
            ]
          },
          "metadata": {},
          "execution_count": 113
        }
      ]
    },
    {
      "cell_type": "markdown",
      "source": [
        "## **TUPLE**"
      ],
      "metadata": {
        "id": "jbwEQ-wCz-Rl"
      }
    },
    {
      "cell_type": "code",
      "source": [
        "bil_tuple = (10,20,30,40,50)\n",
        "bil_tuple"
      ],
      "metadata": {
        "colab": {
          "base_uri": "https://localhost:8080/"
        },
        "id": "5-5Mi5lf0JJi",
        "outputId": "18c14e24-0b4e-4efe-cbb4-f1a84aedf182"
      },
      "execution_count": 55,
      "outputs": [
        {
          "output_type": "execute_result",
          "data": {
            "text/plain": [
              "(10, 20, 30, 40, 50)"
            ]
          },
          "metadata": {},
          "execution_count": 55
        }
      ]
    },
    {
      "cell_type": "markdown",
      "source": [
        "*tidak bisa dimanipulasi atau dirubah datanya, misal menggunakan append*"
      ],
      "metadata": {
        "id": "LBKPRBl32Vl6"
      }
    },
    {
      "cell_type": "code",
      "source": [
        "bil_tuple.count(10)"
      ],
      "metadata": {
        "colab": {
          "base_uri": "https://localhost:8080/"
        },
        "id": "RbvGmHKg2Zvw",
        "outputId": "60e2a259-33e2-4256-d4af-bdbbfc68c495"
      },
      "execution_count": 56,
      "outputs": [
        {
          "output_type": "execute_result",
          "data": {
            "text/plain": [
              "1"
            ]
          },
          "metadata": {},
          "execution_count": 56
        }
      ]
    },
    {
      "cell_type": "code",
      "source": [
        "len(bil_tuple)"
      ],
      "metadata": {
        "colab": {
          "base_uri": "https://localhost:8080/"
        },
        "id": "S4a60Ept2e_H",
        "outputId": "4ef4bf25-d518-48de-b1de-79070dffc4c1"
      },
      "execution_count": 57,
      "outputs": [
        {
          "output_type": "execute_result",
          "data": {
            "text/plain": [
              "5"
            ]
          },
          "metadata": {},
          "execution_count": 57
        }
      ]
    },
    {
      "cell_type": "code",
      "source": [
        "bil_tuple[0]"
      ],
      "metadata": {
        "colab": {
          "base_uri": "https://localhost:8080/"
        },
        "id": "zLGNJ6JC2hmL",
        "outputId": "953e0a53-b533-4ccc-a498-6740fb51d347"
      },
      "execution_count": 58,
      "outputs": [
        {
          "output_type": "execute_result",
          "data": {
            "text/plain": [
              "10"
            ]
          },
          "metadata": {},
          "execution_count": 58
        }
      ]
    },
    {
      "cell_type": "code",
      "source": [
        "bil_tuple[0:3]"
      ],
      "metadata": {
        "colab": {
          "base_uri": "https://localhost:8080/"
        },
        "id": "Il868rC32o7D",
        "outputId": "176da127-b48c-48e7-fc8c-c0fe6ab06324"
      },
      "execution_count": 59,
      "outputs": [
        {
          "output_type": "execute_result",
          "data": {
            "text/plain": [
              "(10, 20, 30)"
            ]
          },
          "metadata": {},
          "execution_count": 59
        }
      ]
    },
    {
      "cell_type": "code",
      "source": [
        "bil_tuple.index(20)"
      ],
      "metadata": {
        "colab": {
          "base_uri": "https://localhost:8080/"
        },
        "id": "TsWSDMwF2tT3",
        "outputId": "e00c8ced-603d-4e36-ff58-007f811cef77"
      },
      "execution_count": 60,
      "outputs": [
        {
          "output_type": "execute_result",
          "data": {
            "text/plain": [
              "1"
            ]
          },
          "metadata": {},
          "execution_count": 60
        }
      ]
    },
    {
      "cell_type": "code",
      "source": [
        "bil_list = list(bil_tuple)\n",
        "bil_list"
      ],
      "metadata": {
        "colab": {
          "base_uri": "https://localhost:8080/"
        },
        "id": "vFP9hzIo2x5B",
        "outputId": "7eb18545-f66f-496a-a039-3816d2cfb983"
      },
      "execution_count": 61,
      "outputs": [
        {
          "output_type": "execute_result",
          "data": {
            "text/plain": [
              "[10, 20, 30, 40, 50]"
            ]
          },
          "metadata": {},
          "execution_count": 61
        }
      ]
    },
    {
      "cell_type": "markdown",
      "source": [
        "*dirubah dari tuple menjadi list*"
      ],
      "metadata": {
        "id": "svKFQfruoBZz"
      }
    },
    {
      "cell_type": "code",
      "source": [
        "bil_tuple_2 = tuple(bil_list)\n",
        "bil_tuple_2"
      ],
      "metadata": {
        "id": "UZJGVnEe286b",
        "colab": {
          "base_uri": "https://localhost:8080/"
        },
        "outputId": "c68b51f3-ed80-4376-89ba-acb25b75deac"
      },
      "execution_count": 62,
      "outputs": [
        {
          "output_type": "execute_result",
          "data": {
            "text/plain": [
              "(10, 20, 30, 40, 50)"
            ]
          },
          "metadata": {},
          "execution_count": 62
        }
      ]
    },
    {
      "cell_type": "markdown",
      "source": [
        "*dirubah balik dari list menjadi tuole & dimasukkan ke dalam nama 'bil_tuple_2'*"
      ],
      "metadata": {
        "id": "a1GVUgAYoFjN"
      }
    },
    {
      "cell_type": "markdown",
      "source": [
        "# **SET**"
      ],
      "metadata": {
        "id": "zLVAG8KW3F1k"
      }
    },
    {
      "cell_type": "code",
      "source": [
        "buah = {'Apel', 'Jeruk', 'Mangga', 'Melon', 'Semangka', 'Anggur'}\n",
        "buah"
      ],
      "metadata": {
        "id": "oa3Y0NJb3MVv",
        "colab": {
          "base_uri": "https://localhost:8080/"
        },
        "outputId": "3e6cc850-bf56-493b-9586-55c24e925c00"
      },
      "execution_count": 63,
      "outputs": [
        {
          "output_type": "execute_result",
          "data": {
            "text/plain": [
              "{'Anggur', 'Apel', 'Jeruk', 'Mangga', 'Melon', 'Semangka'}"
            ]
          },
          "metadata": {},
          "execution_count": 63
        }
      ]
    },
    {
      "cell_type": "code",
      "source": [
        "buah = {'Apel', 'Jeruk', 'Mangga', 'Melon', 'Semangka', 'Anggur', 'Apel'}\n",
        "buah"
      ],
      "metadata": {
        "id": "oFHrW3W84UU3",
        "colab": {
          "base_uri": "https://localhost:8080/"
        },
        "outputId": "ba277a73-5329-4500-c4bb-1d314933aaf8"
      },
      "execution_count": 64,
      "outputs": [
        {
          "output_type": "execute_result",
          "data": {
            "text/plain": [
              "{'Anggur', 'Apel', 'Jeruk', 'Mangga', 'Melon', 'Semangka'}"
            ]
          },
          "metadata": {},
          "execution_count": 64
        }
      ]
    },
    {
      "cell_type": "code",
      "source": [
        "len(buah)"
      ],
      "metadata": {
        "colab": {
          "base_uri": "https://localhost:8080/"
        },
        "id": "iXBOigpqovTC",
        "outputId": "e846ee5b-890c-4d00-9ab4-4452dbc56eaa"
      },
      "execution_count": 65,
      "outputs": [
        {
          "output_type": "execute_result",
          "data": {
            "text/plain": [
              "6"
            ]
          },
          "metadata": {},
          "execution_count": 65
        }
      ]
    },
    {
      "cell_type": "code",
      "source": [
        "buah.add('Pepaya')"
      ],
      "metadata": {
        "id": "vWnie9L7oxQU"
      },
      "execution_count": 66,
      "outputs": []
    },
    {
      "cell_type": "code",
      "source": [
        "buah"
      ],
      "metadata": {
        "colab": {
          "base_uri": "https://localhost:8080/"
        },
        "id": "1yGwDDxUo2N7",
        "outputId": "75956326-f2d9-4016-8812-e285b293aa8c"
      },
      "execution_count": 67,
      "outputs": [
        {
          "output_type": "execute_result",
          "data": {
            "text/plain": [
              "{'Anggur', 'Apel', 'Jeruk', 'Mangga', 'Melon', 'Pepaya', 'Semangka'}"
            ]
          },
          "metadata": {},
          "execution_count": 67
        }
      ]
    },
    {
      "cell_type": "code",
      "source": [
        "buah.update(['Kiwi', 'Pisang'])"
      ],
      "metadata": {
        "id": "-GWH1F-no8Oy"
      },
      "execution_count": 68,
      "outputs": []
    },
    {
      "cell_type": "code",
      "source": [
        "buah"
      ],
      "metadata": {
        "colab": {
          "base_uri": "https://localhost:8080/"
        },
        "id": "yYuMkAwopDlX",
        "outputId": "bc522941-4c2c-438f-e76d-b864e1c91571"
      },
      "execution_count": 69,
      "outputs": [
        {
          "output_type": "execute_result",
          "data": {
            "text/plain": [
              "{'Anggur',\n",
              " 'Apel',\n",
              " 'Jeruk',\n",
              " 'Kiwi',\n",
              " 'Mangga',\n",
              " 'Melon',\n",
              " 'Pepaya',\n",
              " 'Pisang',\n",
              " 'Semangka'}"
            ]
          },
          "metadata": {},
          "execution_count": 69
        }
      ]
    },
    {
      "cell_type": "code",
      "source": [
        "buah.update({'Strawberry', 'Lemon'})"
      ],
      "metadata": {
        "id": "grUY8-0upIwZ"
      },
      "execution_count": 71,
      "outputs": []
    },
    {
      "cell_type": "code",
      "source": [
        "buah"
      ],
      "metadata": {
        "colab": {
          "base_uri": "https://localhost:8080/"
        },
        "id": "XS3ZLHcvpSdp",
        "outputId": "dd780be5-d8d8-441a-e500-6f4c37c9fd1e"
      },
      "execution_count": 72,
      "outputs": [
        {
          "output_type": "execute_result",
          "data": {
            "text/plain": [
              "{'Anggur',\n",
              " 'Apel',\n",
              " 'Jeruk',\n",
              " 'Kiwi',\n",
              " 'Lemon',\n",
              " 'Mangga',\n",
              " 'Melon',\n",
              " 'Pepaya',\n",
              " 'Pisang',\n",
              " 'Semangka',\n",
              " 'Strawberry'}"
            ]
          },
          "metadata": {},
          "execution_count": 72
        }
      ]
    },
    {
      "cell_type": "code",
      "source": [
        "buah.remove('Pisang')"
      ],
      "metadata": {
        "id": "afaM94q5pXIr"
      },
      "execution_count": 74,
      "outputs": []
    },
    {
      "cell_type": "code",
      "source": [
        "buah"
      ],
      "metadata": {
        "colab": {
          "base_uri": "https://localhost:8080/"
        },
        "id": "anAK8SxmpgLv",
        "outputId": "d5012329-aa6d-4ef6-b000-a2d39ce3a3c8"
      },
      "execution_count": 75,
      "outputs": [
        {
          "output_type": "execute_result",
          "data": {
            "text/plain": [
              "{'Anggur',\n",
              " 'Apel',\n",
              " 'Jeruk',\n",
              " 'Kiwi',\n",
              " 'Lemon',\n",
              " 'Mangga',\n",
              " 'Melon',\n",
              " 'Pepaya',\n",
              " 'Semangka',\n",
              " 'Strawberry'}"
            ]
          },
          "metadata": {},
          "execution_count": 75
        }
      ]
    },
    {
      "cell_type": "code",
      "source": [
        "buah.discard('Pisang')"
      ],
      "metadata": {
        "id": "hbj167TUpi70"
      },
      "execution_count": 76,
      "outputs": []
    },
    {
      "cell_type": "code",
      "source": [
        "'Semangka' in buah"
      ],
      "metadata": {
        "colab": {
          "base_uri": "https://localhost:8080/"
        },
        "id": "dGSpdQcOprgy",
        "outputId": "5524bdc7-f5c2-46d5-c775-a3ff4a474d37"
      },
      "execution_count": 78,
      "outputs": [
        {
          "output_type": "execute_result",
          "data": {
            "text/plain": [
              "True"
            ]
          },
          "metadata": {},
          "execution_count": 78
        }
      ]
    },
    {
      "cell_type": "code",
      "source": [
        "'semangka' in buah"
      ],
      "metadata": {
        "colab": {
          "base_uri": "https://localhost:8080/"
        },
        "id": "sXDkyRJVpwwF",
        "outputId": "861152da-fbe3-48d4-cf0a-00e3f7470154"
      },
      "execution_count": 79,
      "outputs": [
        {
          "output_type": "execute_result",
          "data": {
            "text/plain": [
              "False"
            ]
          },
          "metadata": {},
          "execution_count": 79
        }
      ]
    },
    {
      "cell_type": "code",
      "source": [
        "buah"
      ],
      "metadata": {
        "colab": {
          "base_uri": "https://localhost:8080/"
        },
        "id": "ExaNs3GUpzxh",
        "outputId": "38b286b5-74ea-464f-c385-9b1bea0d1a2b"
      },
      "execution_count": 80,
      "outputs": [
        {
          "output_type": "execute_result",
          "data": {
            "text/plain": [
              "{'Anggur',\n",
              " 'Apel',\n",
              " 'Jeruk',\n",
              " 'Kiwi',\n",
              " 'Lemon',\n",
              " 'Mangga',\n",
              " 'Melon',\n",
              " 'Pepaya',\n",
              " 'Semangka',\n",
              " 'Strawberry'}"
            ]
          },
          "metadata": {},
          "execution_count": 80
        }
      ]
    },
    {
      "cell_type": "code",
      "source": [
        "buah.difference({'Kiwi', 'Pisang', 'Mangga'})"
      ],
      "metadata": {
        "colab": {
          "base_uri": "https://localhost:8080/"
        },
        "id": "h2rnQBJHp1dP",
        "outputId": "f482127e-0c1b-44ff-ac27-fce52e504086"
      },
      "execution_count": 81,
      "outputs": [
        {
          "output_type": "execute_result",
          "data": {
            "text/plain": [
              "{'Anggur',\n",
              " 'Apel',\n",
              " 'Jeruk',\n",
              " 'Lemon',\n",
              " 'Melon',\n",
              " 'Pepaya',\n",
              " 'Semangka',\n",
              " 'Strawberry'}"
            ]
          },
          "metadata": {},
          "execution_count": 81
        }
      ]
    },
    {
      "cell_type": "markdown",
      "source": [
        "*difference = untuk melihat perbedaan*"
      ],
      "metadata": {
        "id": "oNi64XlCqCvB"
      }
    },
    {
      "cell_type": "code",
      "source": [
        "buah.intersection({'Kiwi', 'Pisang', 'Mangga'})"
      ],
      "metadata": {
        "colab": {
          "base_uri": "https://localhost:8080/"
        },
        "id": "9jWDdhIIqJeB",
        "outputId": "549f7cfe-234c-4c25-c910-d89c6f73dfc8"
      },
      "execution_count": 82,
      "outputs": [
        {
          "output_type": "execute_result",
          "data": {
            "text/plain": [
              "{'Kiwi', 'Mangga'}"
            ]
          },
          "metadata": {},
          "execution_count": 82
        }
      ]
    },
    {
      "cell_type": "markdown",
      "source": [
        "*intersection = untuk melihat persamaan di list*"
      ],
      "metadata": {
        "id": "f4Avl3nTqPoK"
      }
    },
    {
      "cell_type": "code",
      "source": [
        "{'Kiwi', 'Pisang', 'Mangga'}.difference(buah)"
      ],
      "metadata": {
        "colab": {
          "base_uri": "https://localhost:8080/"
        },
        "id": "msCftV_gqUbo",
        "outputId": "1a19058b-3912-47b1-c4dc-a8d916786b6b"
      },
      "execution_count": 83,
      "outputs": [
        {
          "output_type": "execute_result",
          "data": {
            "text/plain": [
              "{'Pisang'}"
            ]
          },
          "metadata": {},
          "execution_count": 83
        }
      ]
    },
    {
      "cell_type": "code",
      "source": [
        "buah.union({'Kiwi', 'Pisang', 'Mangga'})"
      ],
      "metadata": {
        "colab": {
          "base_uri": "https://localhost:8080/"
        },
        "id": "b0hmTpQcqh0x",
        "outputId": "18fb8ee2-d02e-4372-a96a-42ff6d666122"
      },
      "execution_count": 84,
      "outputs": [
        {
          "output_type": "execute_result",
          "data": {
            "text/plain": [
              "{'Anggur',\n",
              " 'Apel',\n",
              " 'Jeruk',\n",
              " 'Kiwi',\n",
              " 'Lemon',\n",
              " 'Mangga',\n",
              " 'Melon',\n",
              " 'Pepaya',\n",
              " 'Pisang',\n",
              " 'Semangka',\n",
              " 'Strawberry'}"
            ]
          },
          "metadata": {},
          "execution_count": 84
        }
      ]
    },
    {
      "cell_type": "markdown",
      "source": [
        "*union = untuk menambahkan*"
      ],
      "metadata": {
        "id": "CJ2h7LAhqnpi"
      }
    },
    {
      "cell_type": "markdown",
      "source": [
        "# **DICTIONARY**"
      ],
      "metadata": {
        "id": "Skbcx7Vu4QRA"
      }
    },
    {
      "cell_type": "code",
      "source": [
        "pegawai = {\n",
        "    'Nama' : 'Achi',\n",
        "    'Usia' : '40',\n",
        "    'Role' : 'Brand Manager',\n",
        "    'Dept' : 'Marketing'\n",
        "    }\n",
        "pegawai\n"
      ],
      "metadata": {
        "colab": {
          "base_uri": "https://localhost:8080/"
        },
        "id": "dqyyBvFJ4Ty6",
        "outputId": "6b743569-a40d-4da0-ca23-716c6e2d3d14"
      },
      "execution_count": 86,
      "outputs": [
        {
          "output_type": "execute_result",
          "data": {
            "text/plain": [
              "{'Nama': 'Achi', 'Usia': '40', 'Role': 'Brand Manager', 'Dept': 'Marketing'}"
            ]
          },
          "metadata": {},
          "execution_count": 86
        }
      ]
    },
    {
      "cell_type": "code",
      "source": [
        "pegawai ['Nama']"
      ],
      "metadata": {
        "id": "7DlGAj106JEf",
        "colab": {
          "base_uri": "https://localhost:8080/",
          "height": 36
        },
        "outputId": "ab779aa5-9e6d-435c-9218-c4996fec4e2d"
      },
      "execution_count": 87,
      "outputs": [
        {
          "output_type": "execute_result",
          "data": {
            "text/plain": [
              "'Achi'"
            ],
            "application/vnd.google.colaboratory.intrinsic+json": {
              "type": "string"
            }
          },
          "metadata": {},
          "execution_count": 87
        }
      ]
    },
    {
      "cell_type": "code",
      "source": [
        "pegawai ['Nama'] = 'Ratna'\n",
        "pegawai"
      ],
      "metadata": {
        "colab": {
          "base_uri": "https://localhost:8080/"
        },
        "id": "GpaHAX1vr4I1",
        "outputId": "2eb98b31-f96b-4507-d402-4b28267f8739"
      },
      "execution_count": 88,
      "outputs": [
        {
          "output_type": "execute_result",
          "data": {
            "text/plain": [
              "{'Nama': 'Ratna', 'Usia': '40', 'Role': 'Brand Manager', 'Dept': 'Marketing'}"
            ]
          },
          "metadata": {},
          "execution_count": 88
        }
      ]
    },
    {
      "cell_type": "code",
      "source": [
        "pegawai ['Gaji'] = 10000000"
      ],
      "metadata": {
        "id": "D6-KhFB5sCsd"
      },
      "execution_count": 89,
      "outputs": []
    },
    {
      "cell_type": "code",
      "source": [
        "pegawai"
      ],
      "metadata": {
        "colab": {
          "base_uri": "https://localhost:8080/"
        },
        "id": "Qm7DlxicsJsw",
        "outputId": "4527e226-e562-4e0c-91db-9491456bbbcb"
      },
      "execution_count": 90,
      "outputs": [
        {
          "output_type": "execute_result",
          "data": {
            "text/plain": [
              "{'Nama': 'Ratna',\n",
              " 'Usia': '40',\n",
              " 'Role': 'Brand Manager',\n",
              " 'Dept': 'Marketing',\n",
              " 'Gaji': 10000000}"
            ]
          },
          "metadata": {},
          "execution_count": 90
        }
      ]
    },
    {
      "cell_type": "code",
      "source": [
        "del pegawai ['Gaji']"
      ],
      "metadata": {
        "id": "1lKK6sPusKpf"
      },
      "execution_count": 91,
      "outputs": []
    },
    {
      "cell_type": "code",
      "source": [
        "pegawai"
      ],
      "metadata": {
        "colab": {
          "base_uri": "https://localhost:8080/"
        },
        "id": "V9bPG1essRP3",
        "outputId": "ab074495-857a-418c-9393-ab1c7190ab20"
      },
      "execution_count": 92,
      "outputs": [
        {
          "output_type": "execute_result",
          "data": {
            "text/plain": [
              "{'Nama': 'Ratna', 'Usia': '40', 'Role': 'Brand Manager', 'Dept': 'Marketing'}"
            ]
          },
          "metadata": {},
          "execution_count": 92
        }
      ]
    },
    {
      "cell_type": "code",
      "source": [
        "pegawai.keys()"
      ],
      "metadata": {
        "colab": {
          "base_uri": "https://localhost:8080/"
        },
        "id": "K1ellI0csShl",
        "outputId": "530d5084-15b3-4545-d377-498ae758a186"
      },
      "execution_count": 93,
      "outputs": [
        {
          "output_type": "execute_result",
          "data": {
            "text/plain": [
              "dict_keys(['Nama', 'Usia', 'Role', 'Dept'])"
            ]
          },
          "metadata": {},
          "execution_count": 93
        }
      ]
    },
    {
      "cell_type": "code",
      "source": [
        "pegawai.values()"
      ],
      "metadata": {
        "colab": {
          "base_uri": "https://localhost:8080/"
        },
        "id": "7mvlCcqJsWZS",
        "outputId": "f357c147-f730-44ee-e138-509fd6f977f2"
      },
      "execution_count": 94,
      "outputs": [
        {
          "output_type": "execute_result",
          "data": {
            "text/plain": [
              "dict_values(['Ratna', '40', 'Brand Manager', 'Marketing'])"
            ]
          },
          "metadata": {},
          "execution_count": 94
        }
      ]
    },
    {
      "cell_type": "code",
      "source": [
        "pegawai.items()"
      ],
      "metadata": {
        "colab": {
          "base_uri": "https://localhost:8080/"
        },
        "id": "31RKoTbosYkz",
        "outputId": "8f0a514f-3d78-4316-d314-be97d9bea4b1"
      },
      "execution_count": 95,
      "outputs": [
        {
          "output_type": "execute_result",
          "data": {
            "text/plain": [
              "dict_items([('Nama', 'Ratna'), ('Usia', '40'), ('Role', 'Brand Manager'), ('Dept', 'Marketing')])"
            ]
          },
          "metadata": {},
          "execution_count": 95
        }
      ]
    },
    {
      "cell_type": "code",
      "source": [
        "for key, value in pegawai.items():\n",
        "  print(f\"{key} : {value}\")"
      ],
      "metadata": {
        "colab": {
          "base_uri": "https://localhost:8080/"
        },
        "id": "RbVPrBtVsbjg",
        "outputId": "2e506855-1018-459c-be8a-48074e6ae4b0"
      },
      "execution_count": 96,
      "outputs": [
        {
          "output_type": "stream",
          "name": "stdout",
          "text": [
            "Nama : Ratna\n",
            "Usia : 40\n",
            "Role : Brand Manager\n",
            "Dept : Marketing\n"
          ]
        }
      ]
    },
    {
      "cell_type": "code",
      "source": [
        "for key, value in pegawai.items():\n",
        "  print(key, value)"
      ],
      "metadata": {
        "colab": {
          "base_uri": "https://localhost:8080/"
        },
        "id": "K9knk770swdZ",
        "outputId": "09816baa-1e1c-4a65-de98-9266e6744ea2"
      },
      "execution_count": 98,
      "outputs": [
        {
          "output_type": "stream",
          "name": "stdout",
          "text": [
            "Nama Ratna\n",
            "Usia 40\n",
            "Role Brand Manager\n",
            "Dept Marketing\n"
          ]
        }
      ]
    },
    {
      "cell_type": "code",
      "source": [
        "copy_pegawai = pegawai.copy()"
      ],
      "metadata": {
        "id": "fjvmB4y0s-m0"
      },
      "execution_count": 99,
      "outputs": []
    },
    {
      "cell_type": "code",
      "source": [
        "copy_pegawai"
      ],
      "metadata": {
        "colab": {
          "base_uri": "https://localhost:8080/"
        },
        "id": "loNRnlCNtI8k",
        "outputId": "b434fbc0-0b62-43dd-f65a-9451968fde8f"
      },
      "execution_count": 100,
      "outputs": [
        {
          "output_type": "execute_result",
          "data": {
            "text/plain": [
              "{'Nama': 'Ratna', 'Usia': '40', 'Role': 'Brand Manager', 'Dept': 'Marketing'}"
            ]
          },
          "metadata": {},
          "execution_count": 100
        }
      ]
    },
    {
      "cell_type": "code",
      "source": [
        "pegawai ['Gaji'] = 10000000"
      ],
      "metadata": {
        "id": "5O3JUe8htKd5"
      },
      "execution_count": 101,
      "outputs": []
    },
    {
      "cell_type": "code",
      "source": [
        "pegawai"
      ],
      "metadata": {
        "colab": {
          "base_uri": "https://localhost:8080/"
        },
        "id": "IhIZIKbWtPQe",
        "outputId": "59d039fd-9ef2-4e56-a7b0-a5fa89eb25c8"
      },
      "execution_count": 102,
      "outputs": [
        {
          "output_type": "execute_result",
          "data": {
            "text/plain": [
              "{'Nama': 'Ratna',\n",
              " 'Usia': '40',\n",
              " 'Role': 'Brand Manager',\n",
              " 'Dept': 'Marketing',\n",
              " 'Gaji': 10000000}"
            ]
          },
          "metadata": {},
          "execution_count": 102
        }
      ]
    },
    {
      "cell_type": "code",
      "source": [
        "copy_pegawai"
      ],
      "metadata": {
        "colab": {
          "base_uri": "https://localhost:8080/"
        },
        "id": "zCNWCPw5tQXW",
        "outputId": "475a3bed-eff4-4727-bc9b-bc9e5762c631"
      },
      "execution_count": 103,
      "outputs": [
        {
          "output_type": "execute_result",
          "data": {
            "text/plain": [
              "{'Nama': 'Ratna', 'Usia': '40', 'Role': 'Brand Manager', 'Dept': 'Marketing'}"
            ]
          },
          "metadata": {},
          "execution_count": 103
        }
      ]
    },
    {
      "cell_type": "code",
      "source": [
        "copy_pegawai.clear()"
      ],
      "metadata": {
        "id": "XTugQjf_tUWy"
      },
      "execution_count": 104,
      "outputs": []
    },
    {
      "cell_type": "code",
      "source": [
        "copy_pegawai"
      ],
      "metadata": {
        "colab": {
          "base_uri": "https://localhost:8080/"
        },
        "id": "r8UbKJMntagk",
        "outputId": "c0018075-1a22-42ff-ee6f-f4b18a4bb964"
      },
      "execution_count": 105,
      "outputs": [
        {
          "output_type": "execute_result",
          "data": {
            "text/plain": [
              "{}"
            ]
          },
          "metadata": {},
          "execution_count": 105
        }
      ]
    },
    {
      "cell_type": "code",
      "source": [],
      "metadata": {
        "id": "CENx3xvWtcbc"
      },
      "execution_count": null,
      "outputs": []
    }
  ]
}