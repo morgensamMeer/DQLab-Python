{
  "nbformat": 4,
  "nbformat_minor": 0,
  "metadata": {
    "colab": {
      "provenance": []
    },
    "kernelspec": {
      "name": "python3",
      "display_name": "Python 3"
    },
    "language_info": {
      "name": "python"
    }
  },
  "cells": [
    {
      "cell_type": "markdown",
      "source": [
        "List Comprehension, hanya bisa digunakan kl listnya belum terlalu complicated"
      ],
      "metadata": {
        "id": "iWyZFqLeWWOZ"
      }
    },
    {
      "cell_type": "code",
      "execution_count": null,
      "metadata": {
        "id": "ms9h3izRojEZ"
      },
      "outputs": [],
      "source": [
        "list_name = 'asep', 'amir', 'budi', 'cinta', 'edi', 'asep'\n",
        "asep = [getName for getIndex, getName in enumerate(list_name)if getName == 'asep']\n",
        "print (asep)"
      ]
    },
    {
      "cell_type": "code",
      "source": [
        "bilangan = [2, 4, 3, 6, 7, 9]\n",
        "bilangan_baru =[]\n",
        "for i in bilangan:\n",
        "  if i % 2 == 0:\n",
        "    bilangan_baru.append(i+1)\n",
        "  else:\n",
        "    bilangan_baru.append(i+2)\n",
        "print (bilangan_baru)\n",
        "\n",
        "# while or for are allowed\n",
        "#logic\n",
        " # jika bilangan genap: tambah dengan 1\n",
        " # jika bilangan ganjil: tambah dengan 2\n",
        " # hasil penjualan masukkan dalam list yang baru\n",
        "#result [3, 5, 5, 7, 9, 11]"
      ],
      "metadata": {
        "colab": {
          "base_uri": "https://localhost:8080/"
        },
        "id": "l4NMfVBfWd0r",
        "outputId": "19f17ff1-9dad-42ba-96d5-eaa886a50e05"
      },
      "execution_count": 1,
      "outputs": [
        {
          "output_type": "stream",
          "name": "stdout",
          "text": [
            "[3, 5, 5, 7, 9, 11]\n"
          ]
        }
      ]
    },
    {
      "cell_type": "code",
      "source": [
        "def f(x):\n",
        "  return (x+1)\n",
        "f(1)"
      ],
      "metadata": {
        "colab": {
          "base_uri": "https://localhost:8080/"
        },
        "id": "fXJ-0V9jWzYk",
        "outputId": "59698308-210a-4f61-9b27-6e16677c55d1"
      },
      "execution_count": 2,
      "outputs": [
        {
          "output_type": "execute_result",
          "data": {
            "text/plain": [
              "2"
            ]
          },
          "metadata": {},
          "execution_count": 2
        }
      ]
    },
    {
      "cell_type": "code",
      "source": [
        "def f(x_):\n",
        " y = 1\n",
        " return x_\n",
        "\n",
        "f(1)\n",
        "\n",
        "# y & x = local variable, tidak dikenali oleh global environment"
      ],
      "metadata": {
        "colab": {
          "base_uri": "https://localhost:8080/"
        },
        "id": "5r7rRYifYc68",
        "outputId": "63763cc5-f63c-40bf-eae3-69b4b9f65ec2"
      },
      "execution_count": 7,
      "outputs": [
        {
          "output_type": "execute_result",
          "data": {
            "text/plain": [
              "1"
            ]
          },
          "metadata": {},
          "execution_count": 7
        }
      ]
    },
    {
      "cell_type": "code",
      "source": [
        "print (x)"
      ],
      "metadata": {
        "colab": {
          "base_uri": "https://localhost:8080/",
          "height": 141
        },
        "id": "AFloWvy-ZHum",
        "outputId": "c7eaa924-e356-46a0-bc0f-9a6bb84d9f2c"
      },
      "execution_count": 9,
      "outputs": [
        {
          "output_type": "error",
          "ename": "NameError",
          "evalue": "name 'x' is not defined",
          "traceback": [
            "\u001b[0;31m---------------------------------------------------------------------------\u001b[0m",
            "\u001b[0;31mNameError\u001b[0m                                 Traceback (most recent call last)",
            "\u001b[0;32m<ipython-input-9-606ad02f996c>\u001b[0m in \u001b[0;36m<cell line: 0>\u001b[0;34m()\u001b[0m\n\u001b[0;32m----> 1\u001b[0;31m \u001b[0mprint\u001b[0m \u001b[0;34m(\u001b[0m\u001b[0mx\u001b[0m\u001b[0;34m)\u001b[0m\u001b[0;34m\u001b[0m\u001b[0;34m\u001b[0m\u001b[0m\n\u001b[0m",
            "\u001b[0;31mNameError\u001b[0m: name 'x' is not defined"
          ]
        }
      ]
    },
    {
      "cell_type": "code",
      "source": [
        "print (y)"
      ],
      "metadata": {
        "colab": {
          "base_uri": "https://localhost:8080/",
          "height": 141
        },
        "id": "Y8P5nxGcZJ5L",
        "outputId": "960cf836-2de8-4fec-a891-381d24566476"
      },
      "execution_count": 10,
      "outputs": [
        {
          "output_type": "error",
          "ename": "NameError",
          "evalue": "name 'y' is not defined",
          "traceback": [
            "\u001b[0;31m---------------------------------------------------------------------------\u001b[0m",
            "\u001b[0;31mNameError\u001b[0m                                 Traceback (most recent call last)",
            "\u001b[0;32m<ipython-input-10-451ca8f462d9>\u001b[0m in \u001b[0;36m<cell line: 0>\u001b[0;34m()\u001b[0m\n\u001b[0;32m----> 1\u001b[0;31m \u001b[0mprint\u001b[0m \u001b[0;34m(\u001b[0m\u001b[0my\u001b[0m\u001b[0;34m)\u001b[0m\u001b[0;34m\u001b[0m\u001b[0;34m\u001b[0m\u001b[0m\n\u001b[0m",
            "\u001b[0;31mNameError\u001b[0m: name 'y' is not defined"
          ]
        }
      ]
    },
    {
      "cell_type": "code",
      "source": [
        "z = 2\n",
        "def f(x_):\n",
        " y = 1\n",
        " return x_\n",
        "\n",
        "f(1)"
      ],
      "metadata": {
        "colab": {
          "base_uri": "https://localhost:8080/"
        },
        "id": "zICrhrNdZvCg",
        "outputId": "7d1867d7-c364-48ba-b2cc-803b33a45061"
      },
      "execution_count": 12,
      "outputs": [
        {
          "output_type": "execute_result",
          "data": {
            "text/plain": [
              "1"
            ]
          },
          "metadata": {},
          "execution_count": 12
        }
      ]
    },
    {
      "cell_type": "code",
      "source": [
        "f(z)\n",
        "\n",
        "# z adalah global variable"
      ],
      "metadata": {
        "colab": {
          "base_uri": "https://localhost:8080/"
        },
        "id": "UDyyGTrgZN3t",
        "outputId": "8153ac56-074c-4ccb-c84f-77bb47a414ce"
      },
      "execution_count": 13,
      "outputs": [
        {
          "output_type": "execute_result",
          "data": {
            "text/plain": [
              "2"
            ]
          },
          "metadata": {},
          "execution_count": 13
        }
      ]
    },
    {
      "cell_type": "code",
      "source": [
        "z = 2 # Global Variable (variable di luar function)\n",
        "def f():\n",
        " y = 1 # Local Variable (Variable di dalam function)\n",
        " return z\n",
        "\n",
        "# f()"
      ],
      "metadata": {
        "id": "-zb3779CaZ4r"
      },
      "execution_count": null,
      "outputs": []
    },
    {
      "cell_type": "code",
      "source": [
        "f()"
      ],
      "metadata": {
        "colab": {
          "base_uri": "https://localhost:8080/"
        },
        "id": "7EJ_9eEnaRfu",
        "outputId": "db35f8a0-b6c1-4a49-bf68-db7a86154dc0"
      },
      "execution_count": 15,
      "outputs": [
        {
          "output_type": "execute_result",
          "data": {
            "text/plain": [
              "2"
            ]
          },
          "metadata": {},
          "execution_count": 15
        }
      ]
    },
    {
      "cell_type": "code",
      "source": [
        "print (f())"
      ],
      "metadata": {
        "colab": {
          "base_uri": "https://localhost:8080/"
        },
        "id": "W89p4Jl_bm7B",
        "outputId": "c9c0f16b-68e1-423e-e619-3ce6738fbe1a"
      },
      "execution_count": 16,
      "outputs": [
        {
          "output_type": "stream",
          "name": "stdout",
          "text": [
            "2\n"
          ]
        }
      ]
    },
    {
      "cell_type": "code",
      "source": [
        "bilangan = [2, 4, 3, 6, 7, 9]\n",
        "\n",
        "def ganjil_genap (angka):\n",
        "  bilangan_baru =[]\n",
        "\n",
        "  for i in angka:\n",
        "    if i % 2 == 0:\n",
        "      bilangan_baru.append(i+1)\n",
        "    else:\n",
        "      bilangan_baru.append(i+2)\n",
        "  return bilangan_baru\n",
        "\n",
        "print (ganjil_genap(bilangan))\n",
        "\n",
        "\n",
        "\n",
        "# while or for are allowed\n",
        "#logic\n",
        " # jika bilangan genap: tambah dengan 1\n",
        " # jika bilangan ganjil: tambah dengan 2\n",
        " # hasil penjualan masukkan dalam list yang baru\n",
        "#result [3, 5, 5, 7, 9, 11]"
      ],
      "metadata": {
        "colab": {
          "base_uri": "https://localhost:8080/"
        },
        "id": "sodb7dS3Wgle",
        "outputId": "b531e548-0a0e-4e71-9af4-94715cfbf8d1"
      },
      "execution_count": 8,
      "outputs": [
        {
          "output_type": "stream",
          "name": "stdout",
          "text": [
            "[3, 5, 5, 7, 9, 11]\n"
          ]
        }
      ]
    },
    {
      "cell_type": "code",
      "source": [
        "bilangan = [2, 4, 3, 6, 7, 9]\n",
        "def ganjil_genap (i):\n",
        "    if i % 2 == 0:\n",
        "      return i+1\n",
        "    else:\n",
        "      return i+2\n",
        "\n",
        "bilangan_baru = map(ganjil_genap, bilangan)\n",
        "print (list(bilangan_baru))"
      ],
      "metadata": {
        "colab": {
          "base_uri": "https://localhost:8080/"
        },
        "id": "QehyzDp1YRxN",
        "outputId": "4084cfce-8a38-4395-9f2a-7b94260a44a1"
      },
      "execution_count": 19,
      "outputs": [
        {
          "output_type": "stream",
          "name": "stdout",
          "text": [
            "[3, 5, 5, 7, 9, 11]\n"
          ]
        }
      ]
    },
    {
      "cell_type": "code",
      "source": [
        "bilangan = [2, 4, 3, 6, 7, 9]\n",
        "def ganjil_genap (i):\n",
        "    if i % 2 == 0:\n",
        "      return i+1\n",
        "    else:\n",
        "      return i+2\n",
        "\n",
        "bilangan_baru = list(map(ganjil_genap, bilangan))\n",
        "print (bilangan_baru)"
      ],
      "metadata": {
        "colab": {
          "base_uri": "https://localhost:8080/"
        },
        "id": "4lxdUUPCc4AT",
        "outputId": "8b2b3026-8e91-45e3-fb28-38d700ed70bd"
      },
      "execution_count": 20,
      "outputs": [
        {
          "output_type": "stream",
          "name": "stdout",
          "text": [
            "[3, 5, 5, 7, 9, 11]\n"
          ]
        }
      ]
    },
    {
      "cell_type": "code",
      "source": [
        "bilangan = [2, 4, 3, 6, 7, 9]\n",
        "def ganjil_genap (angka):\n",
        "    if angka % 2 == 0:\n",
        "      return angka+1\n",
        "    else:\n",
        "      return angka+2\n",
        "\n",
        "bilangan_baru = list(map(ganjil_genap, bilangan))\n",
        "print (bilangan_baru)"
      ],
      "metadata": {
        "colab": {
          "base_uri": "https://localhost:8080/"
        },
        "id": "4HQ0nJdbdROz",
        "outputId": "196287eb-da6f-4de1-bbbb-7c2e437c179f"
      },
      "execution_count": 24,
      "outputs": [
        {
          "output_type": "stream",
          "name": "stdout",
          "text": [
            "[3, 5, 5, 7, 9, 11]\n"
          ]
        }
      ]
    },
    {
      "cell_type": "code",
      "source": [
        "i = 9"
      ],
      "metadata": {
        "id": "7rHcoaHbeQnG"
      },
      "execution_count": 26,
      "outputs": []
    },
    {
      "cell_type": "code",
      "source": [
        "i = 4"
      ],
      "metadata": {
        "id": "IJ3QOq6Fek_-"
      },
      "execution_count": 27,
      "outputs": []
    },
    {
      "cell_type": "code",
      "source": [
        "bilangan = [2, 4, 3, 6, 7, 9]\n",
        "def ganjil_genap (angka):\n",
        "    if i % 2 == 0:\n",
        "      return i+1\n",
        "    else:\n",
        "      return i+2\n",
        "\n",
        "bilangan_baru = list(map(ganjil_genap, bilangan))\n",
        "print (bilangan_baru)"
      ],
      "metadata": {
        "colab": {
          "base_uri": "https://localhost:8080/"
        },
        "id": "j5bR-KTZepud",
        "outputId": "8eee3558-fae2-4813-be2e-b0aca96ad1c1"
      },
      "execution_count": 29,
      "outputs": [
        {
          "output_type": "stream",
          "name": "stdout",
          "text": [
            "[5, 5, 5, 5, 5, 5]\n"
          ]
        }
      ]
    },
    {
      "cell_type": "markdown",
      "source": [
        "*karena i terakhir yg dibaca adalah i = 4*"
      ],
      "metadata": {
        "id": "TfdnAT51fwGd"
      }
    },
    {
      "cell_type": "code",
      "source": [
        "bilangan = [2, 4, 3, 6, 7, 9]\n",
        "def ganjil_genap (i):\n",
        "    if i % 2 == 0:\n",
        "      return i+1\n",
        "    else:\n",
        "      return i+2\n",
        "\n",
        "bilangan_baru = list(map(ganjil_genap, bilangan))\n",
        "print (bilangan_baru)"
      ],
      "metadata": {
        "colab": {
          "base_uri": "https://localhost:8080/"
        },
        "id": "ccc0wFJGevSj",
        "outputId": "2419bcc9-e2e1-4f3e-8d31-ea2e150e4469"
      },
      "execution_count": 30,
      "outputs": [
        {
          "output_type": "stream",
          "name": "stdout",
          "text": [
            "[3, 5, 5, 7, 9, 11]\n"
          ]
        }
      ]
    },
    {
      "cell_type": "code",
      "source": [
        "bilangan = [2, 4, 3, 6, 7, 9]\n",
        "def ganjil_genap (i):\n",
        "    if i % 2 == 0:\n",
        "      return i+1\n",
        "    else:\n",
        "      return i+2\n",
        "\n",
        "bilangan_baru = tuple(map(ganjil_genap, bilangan))\n",
        "print (bilangan_baru)"
      ],
      "metadata": {
        "colab": {
          "base_uri": "https://localhost:8080/"
        },
        "id": "oGit-IGbftMY",
        "outputId": "32b426fb-d1af-4f08-f85a-0ce042aa7339"
      },
      "execution_count": 31,
      "outputs": [
        {
          "output_type": "stream",
          "name": "stdout",
          "text": [
            "(3, 5, 5, 7, 9, 11)\n"
          ]
        }
      ]
    },
    {
      "cell_type": "code",
      "source": [
        "bilangan = [2, 4, 3, 6, 7, 9]\n",
        "def ganjil_genap (i):\n",
        "    if i % 2 == 0:\n",
        "      return i+1\n",
        "    else:\n",
        "      return i+2\n",
        "\n",
        "bilangan_baru = set(map(ganjil_genap, bilangan))\n",
        "print (bilangan_baru)"
      ],
      "metadata": {
        "colab": {
          "base_uri": "https://localhost:8080/"
        },
        "id": "4Z4Dr_vyganb",
        "outputId": "81e23afa-ea0b-42cb-c089-277c14c57521"
      },
      "execution_count": 32,
      "outputs": [
        {
          "output_type": "stream",
          "name": "stdout",
          "text": [
            "{3, 5, 7, 9, 11}\n"
          ]
        }
      ]
    },
    {
      "cell_type": "markdown",
      "source": [
        "# **Break and Continue**"
      ],
      "metadata": {
        "id": "jA9NAtI_hDv4"
      }
    },
    {
      "cell_type": "code",
      "source": [
        "for i in range (10):\n",
        "  if i % 2 == 0:\n",
        "   continue\n",
        "  else:\n",
        "    print (i)"
      ],
      "metadata": {
        "colab": {
          "base_uri": "https://localhost:8080/"
        },
        "id": "YhNb6kv0gdfS",
        "outputId": "6607b373-f25b-4da4-d57d-0ac71a6a1be9"
      },
      "execution_count": 33,
      "outputs": [
        {
          "output_type": "stream",
          "name": "stdout",
          "text": [
            "1\n",
            "3\n",
            "5\n",
            "7\n",
            "9\n"
          ]
        }
      ]
    },
    {
      "cell_type": "code",
      "source": [
        "for i in range (10):\n",
        "  if i % 2 == 0:\n",
        "   break #karena True maka langsung di stop. Krn kondisi yg pertama sudah memenuhi syarat yg pertama (True)\n",
        "  else:\n",
        "    print (i)"
      ],
      "metadata": {
        "id": "76ljOtTbg0fM"
      },
      "execution_count": 34,
      "outputs": []
    },
    {
      "cell_type": "code",
      "source": [
        "for i in range (10):\n",
        "  if i % 2 == 0:\n",
        "   print (i)\n",
        "  else:\n",
        "    break"
      ],
      "metadata": {
        "colab": {
          "base_uri": "https://localhost:8080/"
        },
        "id": "Ay1gM65th0Yx",
        "outputId": "df4767b9-90c5-445d-b2ea-7bd080e4534d"
      },
      "execution_count": 35,
      "outputs": [
        {
          "output_type": "stream",
          "name": "stdout",
          "text": [
            "0\n"
          ]
        }
      ]
    }
  ]
}