{
  "nbformat": 4,
  "nbformat_minor": 0,
  "metadata": {
    "colab": {
      "provenance": []
    },
    "kernelspec": {
      "name": "python3",
      "display_name": "Python 3"
    },
    "language_info": {
      "name": "python"
    }
  },
  "cells": [
    {
      "cell_type": "code",
      "execution_count": 1,
      "metadata": {
        "colab": {
          "base_uri": "https://localhost:8080/"
        },
        "id": "WNEcX5VUKnN7",
        "outputId": "d6ccef3b-0207-44e8-9030-9d6dba1e78b0"
      },
      "outputs": [
        {
          "output_type": "stream",
          "name": "stdout",
          "text": [
            "hello monday\n"
          ]
        }
      ],
      "source": [
        "print(\"hello monday\")"
      ]
    },
    {
      "cell_type": "markdown",
      "source": [
        "# **#Numerik**"
      ],
      "metadata": {
        "id": "rmNU5jWDLLiz"
      }
    },
    {
      "cell_type": "code",
      "source": [
        "x=5\n",
        "print(x)"
      ],
      "metadata": {
        "colab": {
          "base_uri": "https://localhost:8080/"
        },
        "id": "_CQyM9ZSLCeq",
        "outputId": "aedb409f-e047-4ead-c719-11d17adf98ef"
      },
      "execution_count": 2,
      "outputs": [
        {
          "output_type": "stream",
          "name": "stdout",
          "text": [
            "5\n"
          ]
        }
      ]
    },
    {
      "cell_type": "code",
      "source": [
        "type(x)"
      ],
      "metadata": {
        "colab": {
          "base_uri": "https://localhost:8080/"
        },
        "id": "RzWDECBMLU3Q",
        "outputId": "6d7e24ed-97b8-481a-acd1-7657a98e989d"
      },
      "execution_count": 3,
      "outputs": [
        {
          "output_type": "execute_result",
          "data": {
            "text/plain": [
              "int"
            ]
          },
          "metadata": {},
          "execution_count": 3
        }
      ]
    },
    {
      "cell_type": "code",
      "source": [
        "y=3.14\n",
        "print (y)"
      ],
      "metadata": {
        "colab": {
          "base_uri": "https://localhost:8080/"
        },
        "id": "WCNsZbxzLbbY",
        "outputId": "2b2813d5-8e72-4638-ad1c-8ee9f2d5d03c"
      },
      "execution_count": 4,
      "outputs": [
        {
          "output_type": "stream",
          "name": "stdout",
          "text": [
            "3.14\n"
          ]
        }
      ]
    },
    {
      "cell_type": "code",
      "source": [
        "x + y"
      ],
      "metadata": {
        "colab": {
          "base_uri": "https://localhost:8080/"
        },
        "id": "iQ7rPOvzLnCr",
        "outputId": "f30529d2-35d0-4e53-92f9-9452f5477731"
      },
      "execution_count": 5,
      "outputs": [
        {
          "output_type": "execute_result",
          "data": {
            "text/plain": [
              "8.14"
            ]
          },
          "metadata": {},
          "execution_count": 5
        }
      ]
    },
    {
      "cell_type": "code",
      "source": [
        "print (x+y) #penjumlahan\n",
        "print (x*y) #pengalian\n",
        "print (x/y) #pembagian1 - float\n",
        "print (x//y) #pembahian2 - float\n",
        "print (x%y) #modulo - sisa perhitungan\n",
        "print (x**y) #pangkat\n",
        "print (x**0.5) #pangkat, akar\n",
        "print (x**(1/2)) #akar"
      ],
      "metadata": {
        "colab": {
          "base_uri": "https://localhost:8080/"
        },
        "id": "IPXm4n7FLsZE",
        "outputId": "5b30a4a4-a6b4-4276-e4b0-2e09ed4f10e7"
      },
      "execution_count": 23,
      "outputs": [
        {
          "output_type": "stream",
          "name": "stdout",
          "text": [
            "8.14\n",
            "15.700000000000001\n",
            "1.592356687898089\n",
            "1.0\n",
            "1.8599999999999999\n",
            "156.59064522818883\n",
            "2.23606797749979\n",
            "2.23606797749979\n"
          ]
        }
      ]
    },
    {
      "cell_type": "code",
      "source": [
        "import math\n",
        "print (math.ceil(x/y))\n",
        "print (math.floor(x/y))\n",
        "print (math.pi)"
      ],
      "metadata": {
        "colab": {
          "base_uri": "https://localhost:8080/"
        },
        "id": "9ZbjQf9QMbRb",
        "outputId": "2f20dc56-2e30-4cf0-ccba-d0b6497fb9a1"
      },
      "execution_count": 13,
      "outputs": [
        {
          "output_type": "stream",
          "name": "stdout",
          "text": [
            "2\n",
            "1\n",
            "3.141592653589793\n"
          ]
        }
      ]
    },
    {
      "cell_type": "markdown",
      "source": [
        "# **Boolean** (TRUE or FALSE)"
      ],
      "metadata": {
        "id": "7lj9Y29JNE1C"
      }
    },
    {
      "cell_type": "code",
      "source": [
        "True"
      ],
      "metadata": {
        "colab": {
          "base_uri": "https://localhost:8080/"
        },
        "id": "EFMBIldGNJSH",
        "outputId": "8d494454-898d-4608-e259-5443a50d9e6c"
      },
      "execution_count": 18,
      "outputs": [
        {
          "output_type": "execute_result",
          "data": {
            "text/plain": [
              "True"
            ]
          },
          "metadata": {},
          "execution_count": 18
        }
      ]
    },
    {
      "cell_type": "code",
      "source": [
        "False"
      ],
      "metadata": {
        "colab": {
          "base_uri": "https://localhost:8080/"
        },
        "id": "wrJ_g17DNPbR",
        "outputId": "f897f3a4-34e2-4a29-f05c-fc9230ca6a08"
      },
      "execution_count": 19,
      "outputs": [
        {
          "output_type": "execute_result",
          "data": {
            "text/plain": [
              "False"
            ]
          },
          "metadata": {},
          "execution_count": 19
        }
      ]
    },
    {
      "cell_type": "code",
      "source": [
        "5>3"
      ],
      "metadata": {
        "colab": {
          "base_uri": "https://localhost:8080/"
        },
        "id": "cXHSm7LvNRsS",
        "outputId": "a2d16a44-06d0-4ec2-dc50-db4b99473bfd"
      },
      "execution_count": 20,
      "outputs": [
        {
          "output_type": "execute_result",
          "data": {
            "text/plain": [
              "True"
            ]
          },
          "metadata": {},
          "execution_count": 20
        }
      ]
    },
    {
      "cell_type": "code",
      "source": [
        "not 5>3"
      ],
      "metadata": {
        "colab": {
          "base_uri": "https://localhost:8080/"
        },
        "id": "jlSN7MYgNuVl",
        "outputId": "62cc0566-5e50-46df-ccca-2e03d0c2f193"
      },
      "execution_count": 22,
      "outputs": [
        {
          "output_type": "execute_result",
          "data": {
            "text/plain": [
              "False"
            ]
          },
          "metadata": {},
          "execution_count": 22
        }
      ]
    },
    {
      "cell_type": "code",
      "source": [
        "True + True"
      ],
      "metadata": {
        "colab": {
          "base_uri": "https://localhost:8080/"
        },
        "id": "1MiwOvkbN74E",
        "outputId": "8695f5dd-838b-46a1-89a6-d288af5bd3c9"
      },
      "execution_count": 24,
      "outputs": [
        {
          "output_type": "execute_result",
          "data": {
            "text/plain": [
              "2"
            ]
          },
          "metadata": {},
          "execution_count": 24
        }
      ]
    },
    {
      "cell_type": "code",
      "source": [
        "True + False"
      ],
      "metadata": {
        "colab": {
          "base_uri": "https://localhost:8080/"
        },
        "id": "lNpXMAUuN-5K",
        "outputId": "c8a60b72-56d4-4a7a-ac5a-7bb2916d33b0"
      },
      "execution_count": 25,
      "outputs": [
        {
          "output_type": "execute_result",
          "data": {
            "text/plain": [
              "1"
            ]
          },
          "metadata": {},
          "execution_count": 25
        }
      ]
    },
    {
      "cell_type": "code",
      "source": [
        "True==1"
      ],
      "metadata": {
        "colab": {
          "base_uri": "https://localhost:8080/"
        },
        "id": "TkZ1gCgDOCKR",
        "outputId": "4a49ff6b-a2fd-43bc-877a-8a46691e80c9"
      },
      "execution_count": 26,
      "outputs": [
        {
          "output_type": "execute_result",
          "data": {
            "text/plain": [
              "True"
            ]
          },
          "metadata": {},
          "execution_count": 26
        }
      ]
    },
    {
      "cell_type": "code",
      "source": [
        "False==0"
      ],
      "metadata": {
        "colab": {
          "base_uri": "https://localhost:8080/"
        },
        "id": "IxH7L2KYOGKz",
        "outputId": "bb05836a-2d7c-4198-8c7f-1e4227d3300a"
      },
      "execution_count": 27,
      "outputs": [
        {
          "output_type": "execute_result",
          "data": {
            "text/plain": [
              "True"
            ]
          },
          "metadata": {},
          "execution_count": 27
        }
      ]
    },
    {
      "cell_type": "code",
      "source": [
        "if 5>3:\n",
        "  print(\"hello\")\n",
        "else:\n",
        "    print (\"bye\")"
      ],
      "metadata": {
        "colab": {
          "base_uri": "https://localhost:8080/"
        },
        "id": "CZ9-CdLbORDA",
        "outputId": "f8f65413-ef7f-4b36-e6d1-5c2de9787ca0"
      },
      "execution_count": 30,
      "outputs": [
        {
          "output_type": "stream",
          "name": "stdout",
          "text": [
            "hello\n"
          ]
        }
      ]
    },
    {
      "cell_type": "code",
      "source": [
        "True and False"
      ],
      "metadata": {
        "colab": {
          "base_uri": "https://localhost:8080/"
        },
        "id": "h8LSnjMxOT_i",
        "outputId": "95d360e4-57de-4ec4-a883-2fa5ed05c366"
      },
      "execution_count": 31,
      "outputs": [
        {
          "output_type": "execute_result",
          "data": {
            "text/plain": [
              "False"
            ]
          },
          "metadata": {},
          "execution_count": 31
        }
      ]
    },
    {
      "cell_type": "markdown",
      "source": [
        "**AND** -> seberapa banyaknya True akan tetap False\n",
        "●\t**and** akan bernilai benar jika semua kondisi adalah benar, selain itu akan bernilai salah"
      ],
      "metadata": {
        "id": "M7UetEtPPK0X"
      }
    },
    {
      "cell_type": "code",
      "source": [
        "True or False"
      ],
      "metadata": {
        "colab": {
          "base_uri": "https://localhost:8080/"
        },
        "id": "NPUIUsdPOw-2",
        "outputId": "08c1e93f-53c1-4dce-a5ea-3d74e1bc1b0a"
      },
      "execution_count": 32,
      "outputs": [
        {
          "output_type": "execute_result",
          "data": {
            "text/plain": [
              "True"
            ]
          },
          "metadata": {},
          "execution_count": 32
        }
      ]
    },
    {
      "cell_type": "markdown",
      "source": [
        "**OR** -> seberapa banyaknya False, akan tetap True, krn True di awal\n",
        "●\t**or** akan bernilai benar jika terdapat salah satu kondisi bernilai benar, selain itu akan bernilai salah\n",
        "● **not** akan membalikan nilai kebenaran dari suatu kondisi"
      ],
      "metadata": {
        "id": "euz8gt0IPUTY"
      }
    },
    {
      "cell_type": "code",
      "source": [
        "False or False"
      ],
      "metadata": {
        "colab": {
          "base_uri": "https://localhost:8080/"
        },
        "id": "Fvg793yFPCjg",
        "outputId": "68f27079-c678-4cda-afe2-fa203b26ad83"
      },
      "execution_count": 33,
      "outputs": [
        {
          "output_type": "execute_result",
          "data": {
            "text/plain": [
              "False"
            ]
          },
          "metadata": {},
          "execution_count": 33
        }
      ]
    },
    {
      "cell_type": "code",
      "source": [
        "False and False"
      ],
      "metadata": {
        "colab": {
          "base_uri": "https://localhost:8080/"
        },
        "id": "n8c1R3ShPFTU",
        "outputId": "973b8863-d46c-44ed-b708-c88f32113a3d"
      },
      "execution_count": 34,
      "outputs": [
        {
          "output_type": "execute_result",
          "data": {
            "text/plain": [
              "False"
            ]
          },
          "metadata": {},
          "execution_count": 34
        }
      ]
    },
    {
      "cell_type": "code",
      "source": [
        "x=float (True)\n",
        "x"
      ],
      "metadata": {
        "colab": {
          "base_uri": "https://localhost:8080/"
        },
        "id": "Ac6t4DCbPbf6",
        "outputId": "039b6190-f917-48c7-c95a-e826ab35f641"
      },
      "execution_count": 35,
      "outputs": [
        {
          "output_type": "execute_result",
          "data": {
            "text/plain": [
              "1.0"
            ]
          },
          "metadata": {},
          "execution_count": 35
        }
      ]
    },
    {
      "cell_type": "markdown",
      "source": [
        "# **#Conditional Statement**"
      ],
      "metadata": {
        "id": "sZfJxOLhPjmL"
      }
    },
    {
      "cell_type": "code",
      "source": [
        "# < kurang dari\n",
        "# >= lebih dari atau sama dengan\n",
        "# <= kurang dari atau sama dengan\n",
        "# == sama dengan\n",
        "# != tidak sama dengan\n",
        "# operasi perbandingan akan menghasilkan True atau False"
      ],
      "metadata": {
        "id": "-51Aqvh2Psa9"
      },
      "execution_count": null,
      "outputs": []
    },
    {
      "cell_type": "code",
      "source": [
        "x = int(input(\"masukkan nilai x:\"))\n",
        "if x > 4:\n",
        "  print (\"Nilai x lebih dari 4\")\n",
        "elif x == 4:\n",
        "  print (\"Nilai x sama dengan 4\")\n",
        "else:\n",
        "  print (\"Nilai x kurang dari 4\")"
      ],
      "metadata": {
        "colab": {
          "base_uri": "https://localhost:8080/"
        },
        "id": "UekmTfZ4QI6W",
        "outputId": "ac8c778b-e8c7-4047-ae08-952ab61d90b5"
      },
      "execution_count": 37,
      "outputs": [
        {
          "output_type": "stream",
          "name": "stdout",
          "text": [
            "masukkan nilai x10\n",
            "Nilai x lebih dari 4\n"
          ]
        }
      ]
    },
    {
      "cell_type": "code",
      "source": [
        "x = int(input(\"masukkan nilai x:\"))\n",
        "if x % 2 == 0:\n",
        "  print (\"x bilamgan genap\")\n",
        "else:\n",
        "  print (\"x bilangan ganjil\")"
      ],
      "metadata": {
        "colab": {
          "base_uri": "https://localhost:8080/"
        },
        "id": "SoBWf8OyRJzA",
        "outputId": "7dbd5a62-d515-473f-b9ab-11625f073d95"
      },
      "execution_count": 38,
      "outputs": [
        {
          "output_type": "stream",
          "name": "stdout",
          "text": [
            "masukkan nilai x:5\n",
            "x bilangan ganjil\n"
          ]
        }
      ]
    },
    {
      "cell_type": "code",
      "source": [
        "x = int(input(\"masukkan nilai x:\"))\n",
        "y = int(input(\"masukkan nilai y:\"))\n",
        "if x % 2 == 0 and (y % 3 == 0):\n",
        "  print (\"x dan y bilamgan yang habis dibagi 2 dan 3\")\n",
        "else:\n",
        "  print (\"salah satu dari x atau y adalah bilangan yang tidak habis dibagi 2 dan 3\")"
      ],
      "metadata": {
        "colab": {
          "base_uri": "https://localhost:8080/"
        },
        "id": "fXZAQgSYRlGS",
        "outputId": "6aef4021-a3ad-4582-a884-f228411ff28b"
      },
      "execution_count": 39,
      "outputs": [
        {
          "output_type": "stream",
          "name": "stdout",
          "text": [
            "masukkan nilai x:4\n",
            "masukkan nilai y:5\n",
            "salah satu dari x atau y adalah bilangan yang tidak habis dibagi 2 dan 3\n"
          ]
        }
      ]
    },
    {
      "cell_type": "code",
      "source": [
        "# bmi : body mass index\n",
        "# weight (kg)\n",
        "# height (cm)\n",
        "# bmi = weight (kg) / height (m)^2\n",
        "# kalau bmi kurang dari 18.5 print (\"anda underweight\")\n",
        "# kalau bmi lebih besar sama dengan 18.5 sampai kurang dari 24.9 print (\"anda healthy\")\n",
        "# kalau bmi lebih besar sama dengan 24.9 sampai kurang dari 29.9 print (\"anda overweight\")\n",
        "# selain itu print (\"anda obesitas\")\n",
        "\n",
        "# kalau bmi kurang dari 18.5\n",
        "  # print bmi\n",
        "  # print (\"anda underweight\")\n",
        "# kalau bmi lebih besar sama dengan 18.5 sampai kurang dari 24.9 print (\"anda healthy\")\n",
        "# kalau bmi lebih besar sama dengan 24.9 sampai kurang dari 29.9 print (\"anda overweight\")\n",
        "# selain itu print (\"anda obesitas\")\n"
      ],
      "metadata": {
        "id": "LeIXZlq2TiJA"
      },
      "execution_count": null,
      "outputs": []
    },
    {
      "cell_type": "code",
      "source": [
        "# pseudo code\n",
        "# python"
      ],
      "metadata": {
        "id": "puruXpuEUQxd"
      },
      "execution_count": null,
      "outputs": []
    },
    {
      "cell_type": "code",
      "source": [
        "width = float(input(\"Masukkan berat badan Anda:\"))\n",
        "height = float(input(\"Masukkan tinggi badan Anda:\"))\n",
        "bmi = (width)/((height/100)**2)\n",
        "print(bmi)\n",
        "if bmi < 18.5:\n",
        "  print (\"Anda underweight\")\n",
        "elif bmi >= 18.5 and bmi < 24.9:\n",
        "  print (\"Anda healthy\")\n",
        "elif bmi >= 24.9 and bmi < 29.9:\n",
        "  print (\"Anda overweight\")\n",
        "else:\n",
        "  print (\"Anda obesitas\")"
      ],
      "metadata": {
        "colab": {
          "base_uri": "https://localhost:8080/"
        },
        "id": "P4CLjnanVE1U",
        "outputId": "812326fa-7fff-466d-dc67-cd584ce3b88e"
      },
      "execution_count": 1,
      "outputs": [
        {
          "output_type": "stream",
          "name": "stdout",
          "text": [
            "Masukkan berat badan Anda:65\n",
            "Masukkan tinggi badan Anda:152\n",
            "28.133656509695292\n",
            "Anda overweight\n"
          ]
        }
      ]
    },
    {
      "cell_type": "code",
      "source": [
        "width = float(input(\"Masukkan berat badan Anda:\"))\n",
        "height = float(input(\"Masukkan tinggi badan Anda:\"))\n",
        "bmi = (width)/((height/100)**2)\n",
        "print(bmi)\n",
        "if bmi < 18.5:\n",
        "  print (\"Anda underweight\")\n",
        "elif bmi >= 18.5 and bmi < 24.9:\n",
        "  print (\"Anda healthy\")\n",
        "elif bmi >= 24.9 and bmi < 29.9:\n",
        "  print (\"Anda overweight\")\n",
        "else:\n",
        "  print (\"Anda obesitas\")"
      ],
      "metadata": {
        "colab": {
          "base_uri": "https://localhost:8080/"
        },
        "id": "CJSNitzIlh2t",
        "outputId": "d108348a-e28c-4238-bd72-52f77e9f20dd"
      },
      "execution_count": 2,
      "outputs": [
        {
          "output_type": "stream",
          "name": "stdout",
          "text": [
            "Masukkan berat badan Anda:55\n",
            "Masukkan tinggi badan Anda:152\n",
            "23.80540166204986\n",
            "Anda healthy\n"
          ]
        }
      ]
    },
    {
      "cell_type": "code",
      "source": [
        "# buatlah segitiga siku-siku berikut\n",
        "# *\n",
        "# **\n",
        "# ***\n",
        "# ****\n",
        "# *****\n",
        "# gunakan why loop atau for loop"
      ],
      "metadata": {
        "id": "5cbjSOUEU3NU"
      },
      "execution_count": 40,
      "outputs": []
    },
    {
      "cell_type": "code",
      "source": [
        "for i in range (1,6):\n",
        "  print ('*' * i)"
      ],
      "metadata": {
        "colab": {
          "base_uri": "https://localhost:8080/"
        },
        "id": "Obrw95qQlr8L",
        "outputId": "85b9739e-6bf6-471c-b3ce-7632fa45ccd0"
      },
      "execution_count": 3,
      "outputs": [
        {
          "output_type": "stream",
          "name": "stdout",
          "text": [
            "*\n",
            "**\n",
            "***\n",
            "****\n",
            "*****\n"
          ]
        }
      ]
    },
    {
      "cell_type": "code",
      "source": [
        "list (range(5))"
      ],
      "metadata": {
        "colab": {
          "base_uri": "https://localhost:8080/"
        },
        "id": "Qfq8bq4bWaBN",
        "outputId": "59af8372-689f-4edf-d58b-7898a39b7bb6"
      },
      "execution_count": 41,
      "outputs": [
        {
          "output_type": "execute_result",
          "data": {
            "text/plain": [
              "[0, 1, 2, 3, 4]"
            ]
          },
          "metadata": {},
          "execution_count": 41
        }
      ]
    },
    {
      "cell_type": "markdown",
      "source": [
        "by default python akan memulai deret angka dari 0; 5-0 = 5 deret angka yang dimulai dari 0"
      ],
      "metadata": {
        "id": "LFxzeJUSZARX"
      }
    },
    {
      "cell_type": "code",
      "source": [
        "list (range(1,6))"
      ],
      "metadata": {
        "colab": {
          "base_uri": "https://localhost:8080/"
        },
        "id": "ZLxK-1NOY1Gv",
        "outputId": "4c5bdba5-665d-48dd-d77e-ff8099ce5e2f"
      },
      "execution_count": 42,
      "outputs": [
        {
          "output_type": "execute_result",
          "data": {
            "text/plain": [
              "[1, 2, 3, 4, 5]"
            ]
          },
          "metadata": {},
          "execution_count": 42
        }
      ]
    },
    {
      "cell_type": "code",
      "source": [
        "list (range(1,6,2))"
      ],
      "metadata": {
        "colab": {
          "base_uri": "https://localhost:8080/"
        },
        "id": "G6qpL1bPZL95",
        "outputId": "a2b8b789-0742-4453-96aa-160dc0ed9cb5"
      },
      "execution_count": 43,
      "outputs": [
        {
          "output_type": "execute_result",
          "data": {
            "text/plain": [
              "[1, 3, 5]"
            ]
          },
          "metadata": {},
          "execution_count": 43
        }
      ]
    },
    {
      "cell_type": "markdown",
      "source": [
        "step = langkah = meloncati atau melangkahi - kode ke 3 (2)"
      ],
      "metadata": {
        "id": "r56qVyYxZduv"
      }
    },
    {
      "cell_type": "code",
      "source": [
        "list (range(1,5,2))"
      ],
      "metadata": {
        "colab": {
          "base_uri": "https://localhost:8080/"
        },
        "id": "naqkcRQvZXRh",
        "outputId": "e8fb8fd7-8186-45aa-eb97-b5f880074a7e"
      },
      "execution_count": 44,
      "outputs": [
        {
          "output_type": "execute_result",
          "data": {
            "text/plain": [
              "[1, 3]"
            ]
          },
          "metadata": {},
          "execution_count": 44
        }
      ]
    },
    {
      "cell_type": "code",
      "source": [
        "print (\"Hello World!\")\n",
        "print (\"Hello, Jum'at\")\n",
        "print (\"\"\"Hello World!\n",
        "I am Batman\"\"\")"
      ],
      "metadata": {
        "colab": {
          "base_uri": "https://localhost:8080/"
        },
        "id": "3hMrexCAZf6H",
        "outputId": "9041b658-0af1-4ddc-e227-75471b0b1429"
      },
      "execution_count": 47,
      "outputs": [
        {
          "output_type": "stream",
          "name": "stdout",
          "text": [
            "Hello World!\n",
            "Hello, Jum'at\n",
            "Hello World!\n",
            "I am Batman\n"
          ]
        }
      ]
    },
    {
      "cell_type": "code",
      "source": [
        "\"I am\" + \"Achi\""
      ],
      "metadata": {
        "colab": {
          "base_uri": "https://localhost:8080/",
          "height": 36
        },
        "id": "XT2pDuU8ZvPJ",
        "outputId": "7f31089c-d212-42bf-bd24-f3e7c3feae65"
      },
      "execution_count": 48,
      "outputs": [
        {
          "output_type": "execute_result",
          "data": {
            "text/plain": [
              "'I amAchi'"
            ],
            "application/vnd.google.colaboratory.intrinsic+json": {
              "type": "string"
            }
          },
          "metadata": {},
          "execution_count": 48
        }
      ]
    },
    {
      "cell_type": "code",
      "source": [
        "\"I am\" + \"\" + \"Achi\""
      ],
      "metadata": {
        "colab": {
          "base_uri": "https://localhost:8080/",
          "height": 36
        },
        "id": "KDcSbMUhZ8gJ",
        "outputId": "9bf1c5b8-b6f6-402b-d224-6dfced98924b"
      },
      "execution_count": 49,
      "outputs": [
        {
          "output_type": "execute_result",
          "data": {
            "text/plain": [
              "'I amAchi'"
            ],
            "application/vnd.google.colaboratory.intrinsic+json": {
              "type": "string"
            }
          },
          "metadata": {},
          "execution_count": 49
        }
      ]
    },
    {
      "cell_type": "code",
      "source": [
        "\"I am \" + \"Achi\""
      ],
      "metadata": {
        "colab": {
          "base_uri": "https://localhost:8080/",
          "height": 36
        },
        "id": "4q61GdOdaErx",
        "outputId": "b2526056-e5ac-4d1f-8b99-60a5bf864831"
      },
      "execution_count": 50,
      "outputs": [
        {
          "output_type": "execute_result",
          "data": {
            "text/plain": [
              "'I am Achi'"
            ],
            "application/vnd.google.colaboratory.intrinsic+json": {
              "type": "string"
            }
          },
          "metadata": {},
          "execution_count": 50
        }
      ]
    },
    {
      "cell_type": "markdown",
      "source": [
        "jika membutuhkan spasi"
      ],
      "metadata": {
        "id": "02OIjTH0aJId"
      }
    },
    {
      "cell_type": "code",
      "source": [
        "\"*\" * 5"
      ],
      "metadata": {
        "colab": {
          "base_uri": "https://localhost:8080/",
          "height": 36
        },
        "id": "A7lZ5-FjaLfG",
        "outputId": "2f71d604-0d66-4cc8-acc2-5be2ba516ad2"
      },
      "execution_count": 51,
      "outputs": [
        {
          "output_type": "execute_result",
          "data": {
            "text/plain": [
              "'*****'"
            ],
            "application/vnd.google.colaboratory.intrinsic+json": {
              "type": "string"
            }
          },
          "metadata": {},
          "execution_count": 51
        }
      ]
    },
    {
      "cell_type": "code",
      "source": [
        "\"*\" + 5"
      ],
      "metadata": {
        "colab": {
          "base_uri": "https://localhost:8080/",
          "height": 141
        },
        "id": "4rW0U2sMaU6Z",
        "outputId": "57eaecd6-347e-400f-bc30-31013e63d029"
      },
      "execution_count": 52,
      "outputs": [
        {
          "output_type": "error",
          "ename": "TypeError",
          "evalue": "can only concatenate str (not \"int\") to str",
          "traceback": [
            "\u001b[0;31m---------------------------------------------------------------------------\u001b[0m",
            "\u001b[0;31mTypeError\u001b[0m                                 Traceback (most recent call last)",
            "\u001b[0;32m<ipython-input-52-2ae2acc4d3dc>\u001b[0m in \u001b[0;36m<cell line: 0>\u001b[0;34m()\u001b[0m\n\u001b[0;32m----> 1\u001b[0;31m \u001b[0;34m\"*\"\u001b[0m \u001b[0;34m+\u001b[0m \u001b[0;36m5\u001b[0m\u001b[0;34m\u001b[0m\u001b[0;34m\u001b[0m\u001b[0m\n\u001b[0m",
            "\u001b[0;31mTypeError\u001b[0m: can only concatenate str (not \"int\") to str"
          ]
        }
      ]
    },
    {
      "cell_type": "code",
      "source": [
        "\"*\" - 5"
      ],
      "metadata": {
        "colab": {
          "base_uri": "https://localhost:8080/",
          "height": 141
        },
        "id": "1DG6mb4-aWxV",
        "outputId": "ba3c898c-9e0b-46cc-d384-7acea134592d"
      },
      "execution_count": 53,
      "outputs": [
        {
          "output_type": "error",
          "ename": "TypeError",
          "evalue": "unsupported operand type(s) for -: 'str' and 'int'",
          "traceback": [
            "\u001b[0;31m---------------------------------------------------------------------------\u001b[0m",
            "\u001b[0;31mTypeError\u001b[0m                                 Traceback (most recent call last)",
            "\u001b[0;32m<ipython-input-53-e8625250c143>\u001b[0m in \u001b[0;36m<cell line: 0>\u001b[0;34m()\u001b[0m\n\u001b[0;32m----> 1\u001b[0;31m \u001b[0;34m\"*\"\u001b[0m \u001b[0;34m-\u001b[0m \u001b[0;36m5\u001b[0m\u001b[0;34m\u001b[0m\u001b[0;34m\u001b[0m\u001b[0m\n\u001b[0m",
            "\u001b[0;31mTypeError\u001b[0m: unsupported operand type(s) for -: 'str' and 'int'"
          ]
        }
      ]
    },
    {
      "cell_type": "code",
      "source": [
        "\"*\" / 5"
      ],
      "metadata": {
        "colab": {
          "base_uri": "https://localhost:8080/",
          "height": 141
        },
        "id": "wAvE9H_RaY6N",
        "outputId": "fa03453b-db47-4570-d158-5142c5c69e10"
      },
      "execution_count": 54,
      "outputs": [
        {
          "output_type": "error",
          "ename": "TypeError",
          "evalue": "unsupported operand type(s) for /: 'str' and 'int'",
          "traceback": [
            "\u001b[0;31m---------------------------------------------------------------------------\u001b[0m",
            "\u001b[0;31mTypeError\u001b[0m                                 Traceback (most recent call last)",
            "\u001b[0;32m<ipython-input-54-a72adb1fa46a>\u001b[0m in \u001b[0;36m<cell line: 0>\u001b[0;34m()\u001b[0m\n\u001b[0;32m----> 1\u001b[0;31m \u001b[0;34m\"*\"\u001b[0m \u001b[0;34m/\u001b[0m \u001b[0;36m5\u001b[0m\u001b[0;34m\u001b[0m\u001b[0;34m\u001b[0m\u001b[0m\n\u001b[0m",
            "\u001b[0;31mTypeError\u001b[0m: unsupported operand type(s) for /: 'str' and 'int'"
          ]
        }
      ]
    },
    {
      "cell_type": "markdown",
      "source": [
        "string hanya bisa menggunakan kali (*)"
      ],
      "metadata": {
        "id": "bI2r3sUHafsr"
      }
    },
    {
      "cell_type": "code",
      "source": [
        "x = \"python\""
      ],
      "metadata": {
        "id": "aS7FfzYpagdZ"
      },
      "execution_count": 55,
      "outputs": []
    },
    {
      "cell_type": "code",
      "source": [
        "type (x)"
      ],
      "metadata": {
        "colab": {
          "base_uri": "https://localhost:8080/"
        },
        "id": "j76kyt-EanFN",
        "outputId": "7c0fcede-a937-4e0b-970e-869834327ece"
      },
      "execution_count": 56,
      "outputs": [
        {
          "output_type": "execute_result",
          "data": {
            "text/plain": [
              "str"
            ]
          },
          "metadata": {},
          "execution_count": 56
        }
      ]
    },
    {
      "cell_type": "code",
      "source": [
        "x.upper ()"
      ],
      "metadata": {
        "colab": {
          "base_uri": "https://localhost:8080/",
          "height": 36
        },
        "id": "_JQ6JkE6ar6u",
        "outputId": "1bc6d656-ea57-4337-bf41-e625543607ed"
      },
      "execution_count": 58,
      "outputs": [
        {
          "output_type": "execute_result",
          "data": {
            "text/plain": [
              "'PYTHON'"
            ],
            "application/vnd.google.colaboratory.intrinsic+json": {
              "type": "string"
            }
          },
          "metadata": {},
          "execution_count": 58
        }
      ]
    },
    {
      "cell_type": "code",
      "source": [
        "x.lower ()"
      ],
      "metadata": {
        "colab": {
          "base_uri": "https://localhost:8080/",
          "height": 36
        },
        "id": "vy9QMM8law6R",
        "outputId": "6ab41f68-ab12-42ba-f37b-b3d73c1d418e"
      },
      "execution_count": 59,
      "outputs": [
        {
          "output_type": "execute_result",
          "data": {
            "text/plain": [
              "'python'"
            ],
            "application/vnd.google.colaboratory.intrinsic+json": {
              "type": "string"
            }
          },
          "metadata": {},
          "execution_count": 59
        }
      ]
    },
    {
      "cell_type": "code",
      "source": [
        "x.capitalize ()"
      ],
      "metadata": {
        "colab": {
          "base_uri": "https://localhost:8080/",
          "height": 36
        },
        "id": "8A6WPR4Aa3a0",
        "outputId": "7b56f86c-0e8f-44a8-dec2-fb60578b5557"
      },
      "execution_count": 60,
      "outputs": [
        {
          "output_type": "execute_result",
          "data": {
            "text/plain": [
              "'Python'"
            ],
            "application/vnd.google.colaboratory.intrinsic+json": {
              "type": "string"
            }
          },
          "metadata": {},
          "execution_count": 60
        }
      ]
    },
    {
      "cell_type": "code",
      "source": [
        "# 012345678910\n",
        "# python. sql\n",
        "x = \"python. sql\""
      ],
      "metadata": {
        "id": "SMP5Jj70bAJN"
      },
      "execution_count": 61,
      "outputs": []
    },
    {
      "cell_type": "code",
      "source": [
        "x.capitalize ()"
      ],
      "metadata": {
        "colab": {
          "base_uri": "https://localhost:8080/",
          "height": 36
        },
        "id": "DvKeYCcDbDxO",
        "outputId": "603ac98c-9d19-4d55-e872-77197f1f5313"
      },
      "execution_count": 62,
      "outputs": [
        {
          "output_type": "execute_result",
          "data": {
            "text/plain": [
              "'Python. sql'"
            ],
            "application/vnd.google.colaboratory.intrinsic+json": {
              "type": "string"
            }
          },
          "metadata": {},
          "execution_count": 62
        }
      ]
    },
    {
      "cell_type": "markdown",
      "source": [
        "yg menjadi kapital hanya huruf pertama"
      ],
      "metadata": {
        "id": "uhDIj0ihbGxr"
      }
    },
    {
      "cell_type": "code",
      "source": [
        "x.count (\"y\")"
      ],
      "metadata": {
        "colab": {
          "base_uri": "https://localhost:8080/"
        },
        "id": "O74747bPbn_L",
        "outputId": "4c3bb3c7-0e1b-47b7-ee40-c0380816290b"
      },
      "execution_count": 67,
      "outputs": [
        {
          "output_type": "execute_result",
          "data": {
            "text/plain": [
              "1"
            ]
          },
          "metadata": {},
          "execution_count": 67
        }
      ]
    },
    {
      "cell_type": "code",
      "source": [
        "x.swapcase ()"
      ],
      "metadata": {
        "colab": {
          "base_uri": "https://localhost:8080/",
          "height": 36
        },
        "id": "D1L5xW30bGQS",
        "outputId": "9449acdb-4ece-42f9-91bd-0405f1b5439c"
      },
      "execution_count": 63,
      "outputs": [
        {
          "output_type": "execute_result",
          "data": {
            "text/plain": [
              "'PYTHON. SQL'"
            ],
            "application/vnd.google.colaboratory.intrinsic+json": {
              "type": "string"
            }
          },
          "metadata": {},
          "execution_count": 63
        }
      ]
    },
    {
      "cell_type": "code",
      "source": [
        "x.replace(\"o\", \"a\")"
      ],
      "metadata": {
        "colab": {
          "base_uri": "https://localhost:8080/",
          "height": 36
        },
        "id": "LMrSiXQubu-k",
        "outputId": "4a331fae-1c19-485a-d65e-c3b1e0f7f702"
      },
      "execution_count": 68,
      "outputs": [
        {
          "output_type": "execute_result",
          "data": {
            "text/plain": [
              "'pyTHan. sQL'"
            ],
            "application/vnd.google.colaboratory.intrinsic+json": {
              "type": "string"
            }
          },
          "metadata": {},
          "execution_count": 68
        }
      ]
    },
    {
      "cell_type": "code",
      "source": [
        "x = \"pyTHon. sQL\""
      ],
      "metadata": {
        "id": "--d-aosrbVUF"
      },
      "execution_count": 65,
      "outputs": []
    },
    {
      "cell_type": "code",
      "source": [
        "x.swapcase ()"
      ],
      "metadata": {
        "colab": {
          "base_uri": "https://localhost:8080/",
          "height": 36
        },
        "id": "ordxbMb4baRq",
        "outputId": "1608fa83-8efe-4927-d44d-ccc1edfa913c"
      },
      "execution_count": 66,
      "outputs": [
        {
          "output_type": "execute_result",
          "data": {
            "text/plain": [
              "'PYthON. Sql'"
            ],
            "application/vnd.google.colaboratory.intrinsic+json": {
              "type": "string"
            }
          },
          "metadata": {},
          "execution_count": 66
        }
      ]
    },
    {
      "cell_type": "markdown",
      "source": [
        "huruf besar dan kecil sangat berpengaruh di python"
      ],
      "metadata": {
        "id": "ip4B4G04cUT_"
      }
    },
    {
      "cell_type": "code",
      "source": [
        "x.count (\"y\")"
      ],
      "metadata": {
        "id": "2kUJvD7pbenR"
      },
      "execution_count": null,
      "outputs": []
    },
    {
      "cell_type": "code",
      "source": [
        "'    Aku suka belajar Python    '.strip()"
      ],
      "metadata": {
        "colab": {
          "base_uri": "https://localhost:8080/",
          "height": 36
        },
        "id": "oUD5ePIPb_Sr",
        "outputId": "bd095400-07d3-490b-e909-2eb5d4fb3d03"
      },
      "execution_count": 69,
      "outputs": [
        {
          "output_type": "execute_result",
          "data": {
            "text/plain": [
              "'Aku suka belajar Python'"
            ],
            "application/vnd.google.colaboratory.intrinsic+json": {
              "type": "string"
            }
          },
          "metadata": {},
          "execution_count": 69
        }
      ]
    },
    {
      "cell_type": "markdown",
      "source": [
        "menghilangkan spasi"
      ],
      "metadata": {
        "id": "1sZcQ2clcJJI"
      }
    },
    {
      "cell_type": "code",
      "source": [
        "x[0]"
      ],
      "metadata": {
        "colab": {
          "base_uri": "https://localhost:8080/",
          "height": 36
        },
        "id": "_YTJoSttcLgc",
        "outputId": "41085024-02c1-4719-f7b3-4b112e50ebb5"
      },
      "execution_count": 70,
      "outputs": [
        {
          "output_type": "execute_result",
          "data": {
            "text/plain": [
              "'p'"
            ],
            "application/vnd.google.colaboratory.intrinsic+json": {
              "type": "string"
            }
          },
          "metadata": {},
          "execution_count": 70
        }
      ]
    },
    {
      "cell_type": "code",
      "source": [
        "x[0:6]"
      ],
      "metadata": {
        "colab": {
          "base_uri": "https://localhost:8080/",
          "height": 36
        },
        "id": "8Li6DhtQczGA",
        "outputId": "bbf392ec-b385-4d57-e05c-804fc469f6e7"
      },
      "execution_count": 71,
      "outputs": [
        {
          "output_type": "execute_result",
          "data": {
            "text/plain": [
              "'pyTHon'"
            ],
            "application/vnd.google.colaboratory.intrinsic+json": {
              "type": "string"
            }
          },
          "metadata": {},
          "execution_count": 71
        }
      ]
    },
    {
      "cell_type": "code",
      "source": [
        "\"Asri Ratna Puspadewi\""
      ],
      "metadata": {
        "colab": {
          "base_uri": "https://localhost:8080/",
          "height": 36
        },
        "id": "FM0X8ib9et9h",
        "outputId": "947f0165-b686-4203-8eca-e2666f9d9474"
      },
      "execution_count": 72,
      "outputs": [
        {
          "output_type": "execute_result",
          "data": {
            "text/plain": [
              "'Asri Ratna Puspadewi'"
            ],
            "application/vnd.google.colaboratory.intrinsic+json": {
              "type": "string"
            }
          },
          "metadata": {},
          "execution_count": 72
        }
      ]
    },
    {
      "cell_type": "code",
      "source": [
        "\"Asri Ratna Puspadewi\".split()"
      ],
      "metadata": {
        "colab": {
          "base_uri": "https://localhost:8080/"
        },
        "id": "1AdQp49me7fn",
        "outputId": "d1bb63cc-852b-4199-dc40-08def024d7ac"
      },
      "execution_count": 73,
      "outputs": [
        {
          "output_type": "execute_result",
          "data": {
            "text/plain": [
              "['Asri', 'Ratna', 'Puspadewi']"
            ]
          },
          "metadata": {},
          "execution_count": 73
        }
      ]
    },
    {
      "cell_type": "code",
      "source": [
        "nama = \"Asri Ratna Puspadewi\".split()\n",
        "nama_depan = nama[0]\n",
        "nama_tengah = nama[1]\n",
        "nama_belakang = nama[2]"
      ],
      "metadata": {
        "id": "4x_mP95jfF8J"
      },
      "execution_count": 75,
      "outputs": []
    },
    {
      "cell_type": "code",
      "source": [
        "nama_depan"
      ],
      "metadata": {
        "colab": {
          "base_uri": "https://localhost:8080/",
          "height": 36
        },
        "id": "oGY8cihDfmIF",
        "outputId": "daa40472-b498-4c20-9690-a705b391ccf4"
      },
      "execution_count": 76,
      "outputs": [
        {
          "output_type": "execute_result",
          "data": {
            "text/plain": [
              "'Asri'"
            ],
            "application/vnd.google.colaboratory.intrinsic+json": {
              "type": "string"
            }
          },
          "metadata": {},
          "execution_count": 76
        }
      ]
    }
  ]
}